{
  "cells": [
    {
      "cell_type": "markdown",
      "metadata": {
        "id": "cup0ulo5XN5e"
      },
      "source": [
        "#Importing libraries and running functions"
      ]
    },
    {
      "cell_type": "code",
      "execution_count": 1,
      "metadata": {
        "id": "ODQjgNrH8vO6"
      },
      "outputs": [],
      "source": [
        "#Here we import some necessary libraries. Please, run this cell.\n",
        "import numpy as np\n",
        "import warnings\n",
        "import pandas as pd\n",
        "import matplotlib.pyplot as plt\n",
        "import scipy.stats as ss\n",
        "import scipy.optimize as opt\n",
        "import statsmodels.formula.api as smf\n",
        "import statistics\n",
        "import itertools\n",
        "import math\n",
        "import random\n",
        "warnings.filterwarnings(\"ignore\")\n",
        "\n",
        "import statsmodels.formula.api as smf\n",
        "import statsmodels.stats.api as sms\n",
        "from statsmodels.graphics.regressionplots import plot_leverage_resid2\n",
        "from scipy.optimize import OptimizeResult\n",
        "from sklearn.linear_model import QuantileRegressor\n",
        "from tqdm import tqdm"
      ]
    },
    {
      "cell_type": "code",
      "execution_count": 2,
      "metadata": {
        "id": "Q7onODuCuDlM"
      },
      "outputs": [],
      "source": [
        "#Here are all the functions that I use below\n",
        "\n",
        "#This function makes a simple check of validity of the dataset\n",
        "def filecheck(dataset):#filename):\n",
        "    flag = 0\n",
        "    date = dataset['DATE']\n",
        "    prcp = dataset['PRCP']\n",
        "    #date1 = date[-36500:]\n",
        "    ind = -1\n",
        "    flag_nan = True\n",
        "    while flag_nan:\n",
        "       ind += 1\n",
        "       flag_nan = np.isnan(prcp[ind])\n",
        "    date_start = date[ind]\n",
        "    len1 = len(date)\n",
        "    date_end = date[len(date)-1]\n",
        "    len1 = len1 - ind\n",
        "\n",
        "    prcp = prcp[ind:]\n",
        "    a = 365*(int(date_end[0:4]) - int(date_start[0:4])) + 30*(int(date_end[5:7]) - int(date_start[5:7])) + (int(date_end[8:10]) - int(date_start[8:10]))\n",
        "    len_prcp = len(prcp[np.isnan(prcp)])\n",
        "\n",
        "    if (int(date_start[0:4]) < 1923) & (a/len1<368/365) & (len_prcp/len1 < 3/365):\n",
        "        ind = 0\n",
        "        #while ind<\n",
        "    else:\n",
        "        flag = 1\n",
        "    return flag, a/len1, len_prcp/len1, date_start, date_end\n",
        "\n",
        "#This function checks if there are less than 5 nans and missed values of precipitation per year and returns the longest row of such years\n",
        "def prcp_check(dataset):\n",
        "    date = dataset['DATE']\n",
        "    prcp = dataset['PRCP']\n",
        "    len_date = len(date)\n",
        "    ind = len_date-2\n",
        "    final_year_temp = int(date[len_date-1][0:4])\n",
        "    first_year_temp = final_year_temp\n",
        "    final_year = final_year_temp\n",
        "    first_year = first_year_temp\n",
        "\n",
        "    flag = 1\n",
        "    while (ind >= 0):\n",
        "      ind += 1\n",
        "      ind_0 = ind\n",
        "      while ((date[ind][0:4] == date[ind_0][0:4]) & (ind_0 > 0)):\n",
        "         ind_0 -= 1\n",
        "      if (ind != len_date-1):\n",
        "         prcp_temp = prcp[ind_0+1:ind+1]\n",
        "         if (365 - ind + ind_0 + len(prcp_temp[np.isnan(prcp_temp)])>4):\n",
        "            flag = 0\n",
        "            first_year_temp = int(date[ind][0:4])\n",
        "      if (flag == 0):\n",
        "         if ((final_year_temp - first_year_temp) > (final_year - first_year)):\n",
        "            final_year = final_year_temp\n",
        "            first_year = first_year_temp + 1\n",
        "         final_year_temp = first_year_temp - 1\n",
        "         first_year_temp = final_year_temp\n",
        "         flag = 1\n",
        "      ind = ind_0-1\n",
        "\n",
        "    #if (final_year - first_year > 100):\n",
        "    return first_year, final_year\n",
        "    #else:\n",
        "    #  return 'bad, very bad dataset'\n",
        "\n",
        "#This function just transforms day-month to the number of the day in the year\n",
        "def month_day_to_number(month, day):\n",
        "    days_in_month = [31, 28, 31, 30, 31, 30, 31, 31, 30, 31, 30, 31]\n",
        "    mask = np.ones(12)\n",
        "    mask[month-1:] *= 0\n",
        "    return (np.array(mask)*np.array(days_in_month)).sum() + day\n",
        "\n",
        "#These three functions are needed to apply my test for distinguishing between classes of distribution tails\n",
        "\n",
        "def quantile_LW_Pareto(n, k, glob):\n",
        "  q = np.log(np.log(n/k))\n",
        "  r = np.sqrt(glob**2 + 4*q)\n",
        "  return np.exp(np.exp(((r - glob)/2)**2))\n",
        "\n",
        "def quantile_W_LW(n, k, glob):\n",
        "  return np.exp((np.log(np.log(n/k)))**2/glob)\n",
        "\n",
        "def quantile_RV_W(n, k, glob):\n",
        "  return np.exp(np.sqrt(np.log(n/k)/glob))\n",
        "\n",
        "def test_statistic(n, k_n, samples, glob, method):\n",
        "\n",
        "    const_log = np.log(n*1./k_n)\n",
        "\n",
        "    if method == \"LW_Pareto\":\n",
        "      #usually glob = 1.1 in this case\n",
        "      const_quant = quantile_LW_Pareto(n, k_n, glob)\n",
        "      const_quant2 = quantile_LW_Pareto(n, 2*k_n, glob)\n",
        "\n",
        "      def locscale_LW_Pareto(x):\n",
        "        t = (x - samples[n-k_n])/(samples[n-k_n] - samples[n-2*k_n])*(const_quant - const_quant2) + const_quant\n",
        "        return np.exp(glob*np.sqrt(np.log(np.log(t))))*np.log(t) - const_log\n",
        "\n",
        "      tmp = np.sum(locscale_LW_Pareto(np.array(samples[n-k_n:n])))\n",
        "\n",
        "    elif method == \"W_LW\":\n",
        "      #usually glob \\in [3; 4] in this case\n",
        "      const_quant = quantile_W_LW(n, k_n, glob)\n",
        "      const_quant2 = quantile_W_LW(n, 2*k_n, glob)\n",
        "\n",
        "      def locscale_W_LW(x):\n",
        "        t = (x - samples[n-k_n])/(samples[n-k_n] - samples[n-2*k_n])*(const_quant - const_quant2) + const_quant\n",
        "        return np.exp(np.sqrt(glob*abs(np.log(t)))) - const_log\n",
        "\n",
        "      tmp = np.sum(locscale_W_LW(np.array(samples[n-k_n:n])))\n",
        "\n",
        "    elif method == \"RV_W\":\n",
        "      #usual value for glob is 0.4\n",
        "      const_quant = quantile_RV_W(n, k_n, glob)\n",
        "      const_quant2 = quantile_RV_W(n, 2*k_n, glob)\n",
        "\n",
        "      def locscale_RV_W(x):\n",
        "        t = (x - samples[n-k_n])/(samples[n-k_n] - samples[n-2*k_n])*(const_quant - const_quant2) + const_quant\n",
        "        return glob*np.power(np.log(t),2) - const_log\n",
        "\n",
        "      tmp = np.sum(locscale_RV_W(np.array(samples[n-k_n:n])))\n",
        "\n",
        "    return 1/np.sqrt(k_n)*(tmp - k_n)\n",
        "\n",
        "#Some necessary functions to apply block quantiles method and classical methods for tail estimation\n",
        "def block_maxima(sample, number_of_blocks):\n",
        "\n",
        "    n = len(sample)\n",
        "    length = n // number_of_blocks\n",
        "    #length = number_of_blocks\n",
        "    sample_new = list(map(lambda x: np.max(sample[int(length*x):int(length*(x+1))]), range(number_of_blocks)))\n",
        "\n",
        "    return sample_new\n",
        "################################################################################\n",
        "def generate_model(sample, alpha_min, alpha_max, block_min, block_max, number_block, ratio, threshold, is_threshold = True):\n",
        "\n",
        "    if is_threshold:\n",
        "      sample = sample[sample>threshold] - threshold\n",
        "    n = len(sample)\n",
        "\n",
        "    #block_size = list(map(lambda x: block_min + int(x*(block_max - block_min)/(number_block-1)), range(number_block)))\n",
        "    block_size = list(map(lambda x: int(block_min*np.power((block_max - block_min), x/(number_block-1))), range(number_block-1)))\n",
        "    #alphas = list(map(lambda x: alpha_min + x*(alpha_max - alpha_min)/(number_alpha-1), range(number_alpha)))\n",
        "\n",
        "    feature = []\n",
        "    target = []\n",
        "    index = 0\n",
        "\n",
        "    for i in block_size:\n",
        "        n_temp = n // i\n",
        "        alphas = []\n",
        "        sample_temp = block_maxima(sample, n_temp)\n",
        "        #sample_temp = block_maxima(sample, i)\n",
        "        sample_temp = sorted(sample_temp)\n",
        "\n",
        "        for j in range(n_temp):\n",
        "          if (j >= alpha_min*n_temp)&(j <= alpha_max*n_temp):\n",
        "            alphas.append(j)\n",
        "\n",
        "        alphas = list(alphas)\n",
        "        #feature_temp = list(map(lambda x: 1 - np.power(x, 1/n_temp), alphas))\n",
        "        feature[index:index+len(alphas)] = list(map(lambda x: (1 - np.power(x/n_temp, 1/i)), alphas))\n",
        "        #target[j*number_alpha:(j+1)*number_alpha] = list(map(lambda x: sample_temp[int(x*n_temp-1)], alphas))\n",
        "        target[index:index+len(alphas)] = list(map(lambda x: sample_temp[x-1], alphas))\n",
        "        #list(map(lambda x: sample_temp[int(x*n_temp-1)]*((x*n_temp) % 1) + sample_temp[int(x*n_temp)]*(1 - ((x*n_temp) % 1)), alphas))\n",
        "        index = index+len(alphas)\n",
        "\n",
        "    return feature, target\n",
        "################################################################################\n",
        "def quantile_of_maxima(evi, sigma, ratio, threshold, level, n):\n",
        "    return threshold + np.exp(sigma)*np.power((1 - np.power(level, 1/n)), evi)\n",
        "################################################################################\n",
        "def quantile_classical(evi, sigma, theta, ratio, threshold, level, n):\n",
        "    if evi != 0:\n",
        "      return threshold + (np.power((1 - np.power(level, 1/(n*theta)))/ratio, -evi) - 1)*sigma/evi\n",
        "    else:\n",
        "      return threshold - np.log((1 - np.power(level, 1/(n*theta)))/ratio)*sigma\n",
        "################################################################################\n",
        "def quantile_trivial(evi, sigma, level, n):\n",
        "    return np.exp(sigma + evi*np.log(1 - np.power(level, 1/n)))\n",
        "################################################################################\n",
        "def quantile_logweibull(theta, scale, location, level, n):\n",
        "    return location + scale*np.exp(np.power(-np.log(1 - np.power(level, 1/n)), theta))\n",
        "################################################################################\n",
        "def quantile_logweibull_trivial(theta, sigma, level, n):\n",
        "    return np.exp(sigma*np.power(-np.log(1 - np.power(level, 1/n)), theta))\n",
        "################################################################################\n",
        "def quantile_weibull(theta, scale, location, level, n):\n",
        "    return location + scale*np.power(-np.log(1 - np.power(level, 1/n)), theta)\n",
        "################################################################################\n",
        "def quantile_weibull_trivial(theta, sigma, level, n):\n",
        "    return sigma*np.power(-np.log(1 - np.power(level, 1/n)), theta)\n",
        "################################################################################\n",
        "def quantile_gev(evi, scale, location, theta, level, n):\n",
        "    return location + scale*(-1 + np.power(-np.log(level)/n/theta, -evi))/evi\n",
        "################################################################################\n",
        "def hill_estimator(sample, ratio):\n",
        "    sample = sorted(sample)\n",
        "    n = len(sample)\n",
        "    return np.mean(np.log(sample[int(n*(1-ratio)):])) - np.log(sample[int(n*(1-ratio))-1])\n",
        "################################################################################\n",
        "def moment(sample, ratio, power):\n",
        "    sample = sorted(sample)\n",
        "    n = len(sample)\n",
        "    threshold = sample[int(n*(1-ratio))-1]\n",
        "    return np.mean(np.power(np.log(sample[int(n*(1-ratio)):]) - np.log(threshold), power))\n",
        "################################################################################\n",
        "def moment_estimator(sample, ratio):\n",
        "    hill = hill_estimator(sample, ratio)\n",
        "    second_moment = moment(sample, ratio, 2)\n",
        "    return hill + 1 - 0.5*second_moment/(second_moment - np.power(hill, 2))\n",
        "################################################################################\n",
        "def second_order(sample, ratio, tau):\n",
        "    sample = sorted(sample)\n",
        "    n = len(sample)\n",
        "    m1 = hill_estimator(sample, ratio)\n",
        "    m2 = moment(sample, ratio, 2)\n",
        "    m3 = moment(sample, ratio, 3)\n",
        "    t = (np.power(m1, tau) - np.power(m2/2, tau/2))/(np.power(m2/2, tau/2) - np.power(m3/6, tau/3))\n",
        "    return -3*np.abs((t-1)/(t-3))\n",
        "################################################################################\n",
        "def mle_estimator(sample, ratio):\n",
        "    sample = sorted(sample)\n",
        "    n = len(sample)\n",
        "    threshold = sample[int(n*(1 - ratio))]\n",
        "    return ss.genpareto.fit(np.array(sample[int(n*(1 - ratio))+1:]) - threshold, floc = 0)\n",
        "################################################################################\n",
        "def sigma_estimator(sample, ratio):\n",
        "\n",
        "    sample = sorted(sample)\n",
        "    n = len(sample)\n",
        "    gamma = hill_estimator(sample, ratio)\n",
        "    high_level = sample[int(n*(1-ratio))-1]\n",
        "\n",
        "    ran = range(int(n*ratio))\n",
        "    m_2n = 0\n",
        "    for i in ran:\n",
        "       m_2n += (np.log(sample[int(n-i-1)]) - np.log(high_level))**2/int(n*ratio)\n",
        "    #m_2n = np.mean(list(map(lambda x: np.power(np.log(sample[int(x)]/high_level), 2), np.arange(int(n*(1-ratio)), n, 1))))\n",
        "    gamma_minus = 1 - 0.5*m_2n/(m_2n - gamma**2)\n",
        "\n",
        "    return high_level*gamma*(1-gamma_minus)\n",
        "################################################################################\n",
        "def intervals_estimator(sample, ratio):\n",
        "    d = {'index': range(len(sample)), 'sample': sample}\n",
        "    sam = pd.DataFrame(d)\n",
        "    n = len(sample)\n",
        "    sorted_sample = sorted(sample)\n",
        "    high_level = sorted_sample[int(n*(1-ratio))-1]\n",
        "\n",
        "    indices = list(sam['index'][sam['sample']>high_level])\n",
        "    inter_exceed = list(map(lambda x: indices[int(x+1)] - indices[int(x)], range(len(indices)-1)))\n",
        "    L = len(inter_exceed)\n",
        "\n",
        "    num = 2*np.power(np.sum(inter_exceed) - L, 2)\n",
        "    denom = L*np.sum(list(map(lambda x: (inter_exceed[x]-1)*(inter_exceed[x]-2), range(L))))\n",
        "\n",
        "    if ((denom>0) & (num/denom<1)):\n",
        "      return num/denom\n",
        "    else:\n",
        "      return 1\n",
        "################################################################################\n",
        "def pwm_estimator(sample, block_size, method):\n",
        "    lensample = len(sample)\n",
        "    number_of_blocks = lensample//block_size\n",
        "    if method == \"disjoint\":\n",
        "      sample_maxima = block_maxima(sample, number_of_blocks)\n",
        "    elif method == \"sliding\":\n",
        "      sample_maxima = []\n",
        "      for i in range(block_size):\n",
        "        number_of_blocks = (lensample-i)//block_size\n",
        "        sample_maxima = np.append(sample_maxima, block_maxima(sample[i:], number_of_blocks))\n",
        "      sample_maxima = np.array(list(sample_maxima))\n",
        "\n",
        "    sample_maxima = sorted(sample_maxima)\n",
        "    lensample = len(sample_maxima)\n",
        "    beta_0 = np.mean(sample_maxima)\n",
        "    beta_1 = np.mean(np.array(list(map(lambda x: x*sample_maxima[x]/(lensample-1), range(lensample)))))\n",
        "    beta_2 = np.mean(np.array(list(map(lambda x: x*(x-1)*sample_maxima[x]/(lensample-1)/(lensample-2), range(lensample)))))\n",
        "\n",
        "    def func(gamma):\n",
        "      first_ratio = (np.power(3, gamma)-1)/(np.power(2, gamma)-1)\n",
        "      second_ratio = (3*beta_2 - beta_0)/(2*beta_1 - beta_0)\n",
        "      return np.abs(first_ratio - second_ratio)\n",
        "\n",
        "    gamma = np.array([1])\n",
        "    res_gamma = opt.minimize(func, gamma)\n",
        "    gamma = res_gamma.x[0]\n",
        "    gamma_function = math.gamma(1-gamma)\n",
        "    sigma = gamma*(2*beta_1 - beta_0)/gamma_function/(np.power(2,gamma)-1)\n",
        "    mu = beta_0 + sigma*(1 - gamma_function)/gamma\n",
        "\n",
        "    return gamma, sigma, mu\n",
        "############################################################################3333\n",
        "def adam(\n",
        "    fun,\n",
        "    x0,\n",
        "    jac,\n",
        "    args=(),\n",
        "    learning_rate=0.005,\n",
        "    beta1=0.9,\n",
        "    beta2=0.999,\n",
        "    eps=1e-8,\n",
        "    startiter=0,\n",
        "    maxiter=1000,\n",
        "    callback=None,\n",
        "    **kwargs\n",
        "):\n",
        "    \"\"\"``scipy.optimize.minimize`` compatible implementation of ADAM -\n",
        "    [http://arxiv.org/pdf/1412.6980.pdf].\n",
        "    Adapted from ``autograd/misc/optimizers.py``.\n",
        "    \"\"\"\n",
        "    x = x0\n",
        "    m = np.zeros_like(x)\n",
        "    v = np.zeros_like(x)\n",
        "\n",
        "    for i in range(startiter, startiter + maxiter):\n",
        "        g = jac(x)\n",
        "\n",
        "        if callback and callback(x):\n",
        "            break\n",
        "\n",
        "        m = (1 - beta1) * g + beta1 * m  # first  moment estimate.\n",
        "        v = (1 - beta2) * (g**2) + beta2 * v  # second moment estimate.\n",
        "        mhat = m / (1 - beta1**(i + 1))  # bias correction.\n",
        "        vhat = v / (1 - beta2**(i + 1))\n",
        "        x = x - learning_rate * mhat / (np.sqrt(vhat) + eps)\n",
        "\n",
        "    i += 1\n",
        "    return OptimizeResult(x=x, fun=fun(x), jac=g, nit=i, nfev=i, success=True)\n",
        "################################################################################\n",
        "def eye_ball(sample, method):\n",
        "    length = len(sample)\n",
        "    len_pos = len(sample[sample>0])\n",
        "    window = int(0.01*length)\n",
        "    epsilon = 0.3\n",
        "    ratio = 0.9\n",
        "    hill_list = np.array(list(map(lambda x: method(sample, (x+1)/length), range(window+1))))\n",
        "\n",
        "    flag = 0\n",
        "    t = hill_list[flag]\n",
        "    indi = len(hill_list[abs(1/hill_list - 1/t)<epsilon])/window\n",
        "\n",
        "    while indi<ratio:\n",
        "      flag += 1\n",
        "      hill_list = np.append(hill_list, method(sample, (window+1+flag)/length))\n",
        "      temp = hill_list[flag:]\n",
        "      t = temp[0]\n",
        "      indi = len(temp[abs(1/temp - 1/t)<epsilon])/window\n",
        "      if flag == len_pos - window - 1:\n",
        "        break\n",
        "\n",
        "    return (flag+1)/length #hill_list[flag]#, sigma_estimator(sample, (flag+1)/length)\n",
        "################################################################################\n",
        "def eye_ball_sigma(sample):\n",
        "    length = len(sample)\n",
        "    len_pos = len(sample[sample>0])\n",
        "    window = int(0.01*length)\n",
        "    epsilon = 0.3\n",
        "    ratio = 0.9\n",
        "    hill_list = np.array(list(map(lambda x: sigma_estimator(sample, (x+1)/length), range(window+1))))\n",
        "\n",
        "    flag = 0\n",
        "    t = hill_list[flag]\n",
        "    indi = len(hill_list[abs(1/hill_list - 1/t)<epsilon])/window\n",
        "\n",
        "    while indi<ratio:\n",
        "      flag += 1\n",
        "      hill_list = np.append(hill_list, sigma_estimator(sample, (window+1+flag)/length))\n",
        "      temp = hill_list[flag:]\n",
        "      t = temp[0]\n",
        "      indi = len(temp[abs(1/temp - 1/t)<epsilon])/window\n",
        "      if flag == len_pos - window - 1:\n",
        "        break\n",
        "\n",
        "    return (flag+1)/length\n",
        "################################################################################\n",
        "def Kgaps_estimator(ser):\n",
        "    N_C = len(ser[ser>0])\n",
        "    L = len(ser)\n",
        "    a = L - N_C\n",
        "    b = 2*N_C\n",
        "    c = np.sum(ser[ser>0])\n",
        "    f = (a+b)/c + 1\n",
        "    return 0.5*(f - np.sqrt(np.square(f) - 4*b/c))\n",
        "################################################################################\n",
        "def omega_squared(ser, k, K, level):\n",
        "    ser = np.array(sorted(ser))\n",
        "    L = len(ser)\n",
        "    sernew = np.array(list(map(lambda x: np.max((ser[x] - K)*(1-level), 0), range(L))))\n",
        "\n",
        "    stat = sernew[L-k-1]\n",
        "    theta = Kgaps_estimator(sernew)\n",
        "\n",
        "    temp = np.array(list(map(lambda x: np.square(np.exp((stat - sernew[L-x-1])*theta) - (x+0.5)/k), range(k))))\n",
        "    return np.sum(temp) + 1/(k*12), theta\n",
        "################################################################################\n",
        "def algorithm_discrepancy(sample, level):\n",
        "    sort = sorted(sample)\n",
        "    length = len(sample)\n",
        "    threshold = sort[int(length*level)]\n",
        "\n",
        "    # first step\n",
        "    ser = pd.Series(sample)\n",
        "    exc = np.array(ser[ser>threshold].index)\n",
        "    L = len(exc) - 1\n",
        "    interexceedances = np.array(list(map(lambda x: exc[x+1] - exc[x], range(L))))\n",
        "\n",
        "    # second step\n",
        "    k = int(L*intervals_estimator(sample, 1-level))\n",
        "\n",
        "    # third step\n",
        "    sum_thetas = 0\n",
        "    flag = 0\n",
        "    if (k > 20):\n",
        "      for i in range(21):\n",
        "        a, b = omega_squared(interexceedances, k, i, level)\n",
        "        if a < 1.49:\n",
        "          sum_thetas += b\n",
        "        flag += 1\n",
        "\n",
        "    return sum_thetas, flag\n",
        "################################################################################\n",
        "def discrepancy(sample):\n",
        "    alphas = np.arange(0.9, 1, 0.005)\n",
        "    t = 0\n",
        "    st = 0\n",
        "\n",
        "    for alpha in alphas:\n",
        "      temp1, temp2 = algorithm_discrepancy(sample, alpha)\n",
        "      t += temp2\n",
        "      st += temp1\n",
        "\n",
        "    if (t > 0):\n",
        "      return st/t\n",
        "    else:\n",
        "      return intervals_estimator(sample, 0.1)\n",
        "################################################################################\n",
        "def MLE_Weibull3(sample, ratio, method):\n",
        "    sample = sorted(sample)\n",
        "    sample_max = np.array(sample[int(len(sample)*(1-ratio))+1:])\n",
        "    threshold = sample[int(len(sample)*(1-ratio))]\n",
        "    k = len(sample_max)\n",
        "\n",
        "    def loglikelihood(x):\n",
        "        first_sum = np.sum(np.log((sample_max-x[0])/x[1]))\n",
        "        second_sum = np.sum(np.power((sample_max-x[0])/x[1], x[2]))\n",
        "        return -k*(np.log(x[2]/x[1])) - (x[2]-1)*first_sum + second_sum - k*np.power((threshold-x[0])/x[1], x[2])\n",
        "\n",
        "    #if method == 'Cobyla':\n",
        "    z = np.array([1., 1., 1.])\n",
        "    res = opt.minimize(loglikelihood, z, method = 'COBYLA')\n",
        "\n",
        "    return res.x\n",
        "################################################################################\n",
        "def MLE_logWeibull3(sample, ratio, method):\n",
        "    sample = sorted(sample)\n",
        "    sample_max = np.array(sample[int(len(sample)*(1-ratio))+1:])\n",
        "    threshold = sample[int(len(sample)*(1-ratio))]\n",
        "    k = len(sample_max)\n",
        "\n",
        "    def loglikelihood(x):\n",
        "        zero_sum = np.sum(np.log(sample_max - x[0]))\n",
        "        first_sum = np.sum(np.log(np.log((sample_max-x[0])/x[1])))\n",
        "        second_sum = np.sum(np.power(np.log((sample_max-x[0])/x[1]), x[2]))\n",
        "        return -k*(np.log(x[2])) + zero_sum - (x[2]-1)*first_sum + second_sum - k*np.power(np.log((threshold-x[0])/x[1]), x[2])\n",
        "\n",
        "    #if method == 'Cobyla':\n",
        "    z = np.array([100., 1., 1.])\n",
        "    res = opt.minimize(loglikelihood, z, method = 'COBYLA')\n",
        "\n",
        "    return res.x\n",
        "################################################################################\n",
        "def MLE_logWeibull2(sample, ratio, method):\n",
        "    sample = sorted(sample)\n",
        "    sample_max = np.array(sample[int(len(sample)*(1-ratio))+1:])\n",
        "    sample_std = sample_max.std()\n",
        "    sample_max = sample_max/sample_std\n",
        "    threshold = sample[int(len(sample)*(1-ratio))]/sample_std\n",
        "    k = len(sample_max)\n",
        "\n",
        "    def loglikelihood(x):\n",
        "        zero_sum = np.sum(np.log(sample_max - threshold + x[0]))\n",
        "        first_sum = np.sum(np.log(np.log((sample_max-threshold + x[0])/x[0])))\n",
        "        second_sum = np.sum(np.power(np.log((sample_max-threshold+x[0])/x[0]), x[1]))\n",
        "        return -k*(np.log(x[1])) + zero_sum - (x[1]-1)*first_sum + second_sum\n",
        "\n",
        "    #if method == 'Cobyla':\n",
        "    z = np.array([1.1, 1.1])\n",
        "    res = opt.minimize(loglikelihood, z, method = 'COBYLA')\n",
        "\n",
        "    return res.x[0]*sample_std, res.x[1]\n",
        "################################################################################\n",
        "def CvM(x,y):\n",
        "  res = ss.cramervonmises_2samp(x, y)\n",
        "  return res.statistic#, res.pvalue\n",
        "################################################################################\n",
        "def LS(feature, target, method, N, alphas):\n",
        "\n",
        "    target = np.array(target)\n",
        "    feature = np.array(feature)\n",
        "    mintarget = target.min() - math.e - 1\n",
        "    target -= mintarget\n",
        "    d1 = {'target': target, 'feature': feature}\n",
        "    data2 = pd.DataFrame(d1)\n",
        "\n",
        "    if method == 'W':\n",
        "        m = smf.ols('np.log(target) ~ np.log(-np.log(feature))', data=data2)\n",
        "        mfit = m.fit()\n",
        "        quantiles = np.array(list(map(lambda x: quantile_weibull_trivial(mfit.params[1], np.exp(mfit.params[0]), x, N), alphas)))+mintarget\n",
        "    elif method == 'LW':\n",
        "        m = smf.ols('np.log(np.log(target)) ~ np.log(-np.log(feature))', data=data2)\n",
        "        mfit = m.fit()\n",
        "        quantiles = np.array(list(map(lambda x: quantile_logweibull_trivial(mfit.params[1], np.exp(mfit.params[0]), x, N), alphas))) + mintarget\n",
        "    elif method == 'RV':\n",
        "        m = smf.ols('np.log(target) ~ np.log(feature)', data=data2)\n",
        "        mfit = m.fit()\n",
        "        quantiles = np.array(list(map(lambda x: quantile_trivial(mfit.params[1], mfit.params[0], x, N), alphas))) + mintarget\n",
        "\n",
        "    #return quantiles, mfit.params[1]\n",
        "    return quantiles, mfit.params[0], mfit.params[1]\n",
        "################################################################################\n",
        "def Theil(feature, target, method, N, alphas):\n",
        "\n",
        "    target = np.array(target)\n",
        "    feature = np.array(feature)\n",
        "    mintarget = target.min() - math.e - 1.0\n",
        "    target -= mintarget\n",
        "\n",
        "    if method == 'W':\n",
        "        x = np.log(-np.log(feature))\n",
        "        y = np.log(target)\n",
        "    elif method == 'LW':\n",
        "        x = np.log(-np.log(feature))\n",
        "        y = np.log(np.log(target))\n",
        "    elif method == 'RV':\n",
        "        x = np.log(feature)\n",
        "        y = np.log(target)\n",
        "\n",
        "    #diff = []\n",
        "    #for k in range(len(x)):\n",
        "    #  for j in range(k+1, len(x)):\n",
        "    #    diff.append((y[k] - y[j])/(x[k] - x[j]))\n",
        "\n",
        "    evi_theil, sigma_theil, a, b = ss.theilslopes(y, x, alpha=0.95, method='joint')\n",
        "\n",
        "    #evi_theil = statistics.median(diff)\n",
        "    #sigma_theil = statistics.median(y - evi_theil*x)\n",
        "\n",
        "    if method == 'W':\n",
        "        quantiles = np.array(list(map(lambda x: quantile_weibull_trivial(evi_theil, np.exp(sigma_theil), x, N), alphas))) + mintarget\n",
        "    elif method == 'LW':\n",
        "        quantiles = np.array(list(map(lambda x: quantile_logweibull_trivial(evi_theil, np.exp(sigma_theil), x, N), alphas))) + mintarget\n",
        "    elif method == 'RV':\n",
        "        quantiles = np.array(list(map(lambda x: quantile_trivial(evi_theil, sigma_theil, x, N), alphas))) + mintarget\n",
        "\n",
        "    #return quantiles, evi_theil\n",
        "    return quantiles, sigma_theil, evi_theil\n",
        "################################################################################\n",
        "def Cobyla(feature, target, method, N, alphas, starting_theta):\n",
        "\n",
        "    target = np.array(target)\n",
        "    target_mean = target.mean()\n",
        "    target_std = target.std()\n",
        "    target = (target - target_mean)/target_std\n",
        "    target_min = target.min()-1\n",
        "\n",
        "    if method == 'W_s':\n",
        "      def func(x):\n",
        "        feature1 = np.power(-np.log(np.array(feature)), x[0])\n",
        "        feature_mean = feature1.mean()\n",
        "        feature_std = feature1.std()\n",
        "        feature1 = (feature1 - feature_mean)/feature_std\n",
        "        return np.sum(np.square(target - x[2] - x[1]*feature1))\n",
        "      z = np.array([starting_theta, 1., 0.])\n",
        "    elif method == 'W':\n",
        "      def func(x):\n",
        "        return np.sum(np.square(target - x[2] - x[1]*np.power(-np.log(feature), x[0])))\n",
        "    elif method == 'LW':\n",
        "      def func(x):\n",
        "        return np.sum(np.square(target - x[2] - x[1]*np.exp(np.power(-np.log(feature), x[0]))))\n",
        "    elif method == 'RV':\n",
        "      def func(x):\n",
        "        return np.sum(np.square(target - x[2] - x[1]*np.power(feature, - x[0])))\n",
        "\n",
        "    #z = np.array([1., 1., target_min])\n",
        "    #z = np.array([starting_theta, 1., -1.])\n",
        "    z = np.array([starting_theta, 1., -1.])\n",
        "    res = opt.minimize(func, z, method='COBYLA')\n",
        "\n",
        "    if method == 'W_s':\n",
        "        feature1 = np.power(-np.log(np.array(feature)), res.x[0])\n",
        "        feature_mean = feature1.mean()\n",
        "        feature_std = feature1.std()\n",
        "        quantiles = list(map(lambda y: quantile_weibull(res.x[0], res.x[1]*target_std/feature_std, res.x[2]*target_std + target_mean - res.x[1]*target_std*feature_mean/feature_std, y, N), alphas))\n",
        "    elif method == 'W':\n",
        "        quantiles = list(map(lambda y: quantile_weibull(res.x[0], res.x[1]*target_std, res.x[2]*target_std + target_mean, y, N), alphas))\n",
        "    elif method == 'LW':\n",
        "        quantiles = list(map(lambda y: quantile_logweibull(res.x[0], res.x[1]*target_std, res.x[2]*target_std + target_mean, y, N), alphas))\n",
        "    elif method == 'RV':\n",
        "        quantiles = list(map(lambda y: quantile_of_maxima(-res.x[0], np.log(res.x[1]*target_std), 1, res.x[2]*target_std + target_mean, y, N), alphas))\n",
        "\n",
        "    return quantiles, res.x\n",
        "################################################################################\n",
        "def Adam(feature, target, method, N, alphas, starting_theta, rho):\n",
        "\n",
        "    target = np.array(target)\n",
        "    #target_std = 1\n",
        "    #target_mean = 0\n",
        "    #For tail estimation it is important!\n",
        "    target_mean = target.mean()\n",
        "    target_std = target.std()\n",
        "    target = (target - target_mean)/target_std\n",
        "    target_min = target.min()-1.\n",
        "\n",
        "    if method == 'W':\n",
        "      def func(x):\n",
        "        return np.sum(np.power(np.abs(target - x[2] - x[1]*np.power(-np.log(feature), x[0])), rho))/rho\n",
        "\n",
        "      def gradient(x):\n",
        "        d = np.zeros(3)\n",
        "        d[0] = - np.sum(np.sign(target - x[2] - x[1]*np.power(-np.log(feature), x[0]))*x[1]*np.power(-np.log(feature), x[0])*np.log(-np.log(feature))*np.power(np.abs(target - x[2] - x[1]*np.power(-np.log(feature), x[0])), rho-1))\n",
        "        d[1] = - np.sum(np.sign(target - x[2] - x[1]*np.power(-np.log(feature), x[0]))*np.power(-np.log(feature), x[0])*np.power(np.abs(target - x[2] - x[1]*np.power(-np.log(feature), x[0])), rho-1))\n",
        "        d[2] = - np.sum(np.sign(target - x[2] - x[1]*np.power(-np.log(feature), x[0]))*np.power(np.abs(target - x[2] - x[1]*np.power(-np.log(feature), x[0])), rho-1))\n",
        "        return d\n",
        "\n",
        "    elif method == 'LW':\n",
        "      def func(x):\n",
        "        return np.sum(np.power(np.abs(target - x[2] - x[1]*np.exp(np.power(-np.log(feature), x[0]))), rho))/rho\n",
        "\n",
        "      def gradient(x):\n",
        "        d = np.zeros(3)\n",
        "        d[0] = - np.sum(np.sign(target - x[2] - x[1]*np.exp(np.power(-np.log(feature), x[0])))*x[1]*np.exp(np.power(-np.log(feature), x[0]))*np.power(np.abs(target - x[2] - x[1]*np.exp(np.power(-np.log(feature), x[0]))), rho-1)*np.exp(np.power(-np.log(feature), x[0]))*np.power(-np.log(feature), x[0])*np.log(-np.log(feature)))\n",
        "        d[1] = - np.sum(np.sign(target - x[2] - x[1]*np.exp(np.power(-np.log(feature), x[0])))*np.exp(np.power(-np.log(feature), x[0]))*np.power(np.abs(target - x[2] - x[1]*np.exp(np.power(-np.log(feature), x[0]))), rho-1))\n",
        "        d[2] = - np.sum(np.sign(target - x[2] - x[1]*np.exp(np.power(-np.log(feature), x[0])))*np.power(np.abs(target - x[2] - x[1]*np.exp(np.power(-np.log(feature), x[0]))), rho-1))\n",
        "        return d\n",
        "\n",
        "    elif method == 'RV':\n",
        "      def func(x):\n",
        "        return np.sum(np.power(np.abs(target - x[2] - x[1]*np.power(feature, - x[0])), rho))/rho\n",
        "\n",
        "      def gradient(x):\n",
        "        d = np.zeros(3)\n",
        "        d[0] = np.sum(np.sign(target - x[2] - x[1]*np.power(feature, - x[0]))*x[1]*np.power(feature, - x[0])*np.log(feature)*np.power(np.abs(target - x[2] - x[1]*np.power(feature, - x[0])), rho-1))\n",
        "        d[1] = - np.sum(np.sign(target - x[2] - x[1]*np.power(feature, - x[0]))*np.power(feature, - x[0])*np.power(np.abs(target - x[2] - x[1]*np.power(feature, - x[0])), rho-1))\n",
        "        d[2] = - np.sum(np.sign(target - x[2] - x[1]*np.power(feature, - x[0]))*np.power(np.abs(target - x[2] - x[1]*np.power(feature, - x[0])), rho-1))\n",
        "        return d\n",
        "\n",
        "    #z = np.array([starting_theta, 1., 0])\n",
        "    z = np.array([starting_theta, 1., -1])\n",
        "    #z = np.array([1., 1., -1.])\n",
        "    res = opt.minimize(func, z, jac = gradient, method=adam)\n",
        "    resx = np.zeros(3)\n",
        "    resx[0] = res.x[0]\n",
        "    resx[1] = res.x[1]*target_std\n",
        "    resx[2] = res.x[2]*target_std + target_mean\n",
        "\n",
        "    if method == 'W':\n",
        "        quantiles = list(map(lambda y: quantile_weibull(res.x[0], res.x[1]*target_std, res.x[2]*target_std + target_mean, y, N), alphas))\n",
        "    elif method == 'LW':\n",
        "        quantiles = list(map(lambda y: quantile_logweibull(res.x[0], res.x[1]*target_std, res.x[2]*target_std + target_mean, y, N), alphas))\n",
        "    elif method == 'RV':\n",
        "        quantiles = list(map(lambda x: quantile_of_maxima(-res.x[0], np.log(res.x[1]*target_std), 1, res.x[2]*target_std + target_mean, x, N), alphas))\n",
        "    return quantiles, resx\n",
        "################################################################################\n",
        "def Adam1(feature, target, method, N, alphas, starting_theta, starting_b, rho):\n",
        "\n",
        "    target = np.array(target)\n",
        "    #target_std = 1\n",
        "    #target_mean = 0\n",
        "    #For tail estimation it is important!\n",
        "    target_mean = target.mean()\n",
        "    target_std = target.std()\n",
        "    target = (target - target_mean)/target_std\n",
        "    target_min = target.min()-1.\n",
        "\n",
        "    if method == 'W':\n",
        "      def func(x):\n",
        "        return np.sum(np.power(np.abs(target - x[2] - x[1]*np.power(-np.log(feature), x[0])), rho))/rho\n",
        "\n",
        "      def gradient(x):\n",
        "        d = np.zeros(3)\n",
        "        d[0] = - np.sum(np.sign(target - x[2] - x[1]*np.power(-np.log(feature), x[0]))*x[1]*np.power(-np.log(feature), x[0])*np.log(-np.log(feature))*np.power(np.abs(target - x[2] - x[1]*np.power(-np.log(feature), x[0])), rho-1))\n",
        "        d[1] = - np.sum(np.sign(target - x[2] - x[1]*np.power(-np.log(feature), x[0]))*np.power(-np.log(feature), x[0])*np.power(np.abs(target - x[2] - x[1]*np.power(-np.log(feature), x[0])), rho-1))\n",
        "        d[2] = - np.sum(np.sign(target - x[2] - x[1]*np.power(-np.log(feature), x[0]))*np.power(np.abs(target - x[2] - x[1]*np.power(-np.log(feature), x[0])), rho-1))\n",
        "        return d\n",
        "\n",
        "    elif method == 'LW':\n",
        "      def func(x):\n",
        "        return np.sum(np.power(np.abs(target - x[2] - x[1]*np.exp(np.power(-np.log(feature), x[0]))), rho))/rho\n",
        "\n",
        "      def gradient(x):\n",
        "        d = np.zeros(3)\n",
        "        d[0] = - np.sum(np.sign(target - x[2] - x[1]*np.exp(np.power(-np.log(feature), x[0])))*x[1]*np.exp(np.power(-np.log(feature), x[0]))*np.power(np.abs(target - x[2] - x[1]*np.exp(np.power(-np.log(feature), x[0]))), rho-1)*np.exp(np.power(-np.log(feature), x[0]))*np.power(-np.log(feature), x[0])*np.log(-np.log(feature)))\n",
        "        d[1] = - np.sum(np.sign(target - x[2] - x[1]*np.exp(np.power(-np.log(feature), x[0])))*np.exp(np.power(-np.log(feature), x[0]))*np.power(np.abs(target - x[2] - x[1]*np.exp(np.power(-np.log(feature), x[0]))), rho-1))\n",
        "        d[2] = - np.sum(np.sign(target - x[2] - x[1]*np.exp(np.power(-np.log(feature), x[0])))*np.power(np.abs(target - x[2] - x[1]*np.exp(np.power(-np.log(feature), x[0]))), rho-1))\n",
        "        return d\n",
        "\n",
        "    elif method == 'RV':\n",
        "      def func(x):\n",
        "        return np.sum(np.power(np.abs(target - x[2] - x[1]*np.power(feature, - x[0])), rho))/rho\n",
        "\n",
        "      def gradient(x):\n",
        "        d = np.zeros(3)\n",
        "        d[0] = np.sum(np.sign(target - x[2] - x[1]*np.power(feature, - x[0]))*x[1]*np.power(feature, - x[0])*np.log(feature)*np.power(np.abs(target - x[2] - x[1]*np.power(feature, - x[0])), rho-1))\n",
        "        d[1] = - np.sum(np.sign(target - x[2] - x[1]*np.power(feature, - x[0]))*np.power(feature, - x[0])*np.power(np.abs(target - x[2] - x[1]*np.power(feature, - x[0])), rho-1))\n",
        "        d[2] = - np.sum(np.sign(target - x[2] - x[1]*np.power(feature, - x[0]))*np.power(np.abs(target - x[2] - x[1]*np.power(feature, - x[0])), rho-1))\n",
        "        return d\n",
        "\n",
        "    z = np.array([starting_theta, starting_b, 0])\n",
        "    #z = np.array([1., 1., -1.])\n",
        "    res = opt.minimize(func, z, jac = gradient, method=adam)\n",
        "    resx = np.zeros(3)\n",
        "    resx[0] = res.x[0]\n",
        "    resx[1] = res.x[1]*target_std\n",
        "    resx[2] = res.x[2]*target_std + target_mean\n",
        "\n",
        "    if method == 'W':\n",
        "        quantiles = list(map(lambda y: quantile_weibull(res.x[0], res.x[1]*target_std, res.x[2]*target_std + target_mean, y, N), alphas))\n",
        "    elif method == 'LW':\n",
        "        quantiles = list(map(lambda y: quantile_logweibull(res.x[0], res.x[1]*target_std, res.x[2]*target_std + target_mean, y, N), alphas))\n",
        "    elif method == 'RV':\n",
        "        quantiles = list(map(lambda x: quantile_of_maxima(-res.x[0], np.log(res.x[1]*target_std), 1, res.x[2]*target_std + target_mean, x, N), alphas))\n",
        "\n",
        "    return quantiles, resx\n",
        "################################################################################\n",
        "def QuantLS(feature, target, method, level, N, alphas):\n",
        "\n",
        "    target = np.array(target)\n",
        "    feature = np.array(feature)\n",
        "    mintarget = target.min() - math.e - 1\n",
        "    target -= mintarget\n",
        "    d1 = {'target': target, 'feature': feature}\n",
        "    data2 = pd.DataFrame(d1)\n",
        "\n",
        "    if method == 'W':\n",
        "        m = smf.quantreg('np.log(target) ~ np.log(-np.log(feature))', data=data2)\n",
        "        mfit = m.fit(q = level)\n",
        "        quantiles = np.array(list(map(lambda x: quantile_weibull_trivial(mfit.params[1], np.exp(mfit.params[0]), x, N), alphas)))+mintarget\n",
        "    elif method == 'LW':\n",
        "        m = smf.quantreg('np.log(np.log(target)) ~ np.log(-np.log(feature))', data=data2)\n",
        "        mfit = m.fit(q = level)\n",
        "        quantiles = np.array(list(map(lambda x: quantile_logweibull_trivial(mfit.params[1], np.exp(mfit.params[0]), x, N), alphas))) + mintarget\n",
        "    elif method == 'RV':\n",
        "        m = smf.quantreg('np.log(target) ~ np.log(feature)', data=data2)\n",
        "        mfit = m.fit(q = level)\n",
        "        quantiles = np.array(list(map(lambda x: quantile_trivial(mfit.params[1], mfit.params[0], x, N), alphas))) + mintarget\n",
        "\n",
        "    return quantiles\n",
        "################################################################################\n",
        "def QuantTheil(feature, target, method, level, N, alphas):\n",
        "\n",
        "    target = np.array(target)\n",
        "    feature = np.array(feature)\n",
        "    mintarget = target.min() - math.e - 1.0\n",
        "    target -= mintarget\n",
        "\n",
        "    if method == 'W':\n",
        "        x = np.log(-np.log(feature))\n",
        "        y = np.log(target)\n",
        "    elif method == 'LW':\n",
        "        x = np.log(-np.log(feature))\n",
        "        y = np.log(np.log(target))\n",
        "    elif method == 'RV':\n",
        "        x = np.log(feature)\n",
        "        y = np.log(target)\n",
        "\n",
        "    if level<0.5:\n",
        "      level1 = 2*np.sqrt(1 - level) - 1\n",
        "    else:\n",
        "      level1 = 2*np.sqrt(level) - 1\n",
        "\n",
        "    #diff = []\n",
        "    #for k in range(len(x)):\n",
        "    #  for j in range(k+1, len(x)):\n",
        "    #    diff.append((y[k] - y[j])/(x[k] - x[j]))\n",
        "\n",
        "    evi_theil, sigma_theil, a, b = ss.theilslopes(y, x, alpha=level1, method='joint')\n",
        "\n",
        "    #evi_theil = statistics.median(diff)\n",
        "    if level <0.5:\n",
        "      sigma_theil = np.quantile(y - evi_theil*x, 1 - np.sqrt(1 - level))\n",
        "      evi_theil = a\n",
        "    else:\n",
        "      sigma_theil = np.quantile(y - evi_theil*x, np.sqrt(level))\n",
        "      evi_theil = b\n",
        "\n",
        "    if method == 'W':\n",
        "        quantiles = np.array(list(map(lambda x: quantile_weibull_trivial(evi_theil, np.exp(sigma_theil), x, N), alphas))) + mintarget\n",
        "    elif method == 'LW':\n",
        "        quantiles = np.array(list(map(lambda x: quantile_logweibull_trivial(evi_theil, np.exp(sigma_theil), x, N), alphas))) + mintarget\n",
        "    elif method == 'RV':\n",
        "        quantiles = np.array(list(map(lambda x: quantile_trivial(evi_theil, sigma_theil, x, N), alphas))) + mintarget\n",
        "\n",
        "    #return quantiles, evi_theil\n",
        "    return quantiles\n",
        "################################################################################\n",
        "def neg(x):\n",
        "    return np.sign(x)*(np.sign(x)-1)/2.\n",
        "################################################################################\n",
        "def QuantAdam(feature, target, method, level, N, alphas, starting_theta, rho):\n",
        "\n",
        "    target = np.array(target)\n",
        "    target_mean = target.mean()\n",
        "    target_std = target.std()\n",
        "    target = (target - target_mean)/target_std\n",
        "    target_min = target.min()-1.\n",
        "\n",
        "    if method == 'W':\n",
        "      def func(x):\n",
        "        return np.sum(np.power(np.abs(target - x[2] - x[1]*np.power(-np.log(feature), x[0])), rho) * (level + (1 - 2*level)*neg(target - x[2] - x[1]*np.power(-np.log(feature), x[0]))))/rho\n",
        "\n",
        "      def gradient(x):\n",
        "        d = np.zeros(3)\n",
        "        d[0] = - np.sum(np.sign(target - x[2] - x[1]*np.power(-np.log(feature), x[0]))*x[1]*np.power(-np.log(feature), x[0])*np.log(-np.log(feature))*np.power(np.abs(target - x[2] - x[1]*np.power(-np.log(feature), x[0])), rho-1) * (level + (1 - 2*level)*neg(target - x[2] - x[1]*np.power(-np.log(feature), x[0]))))\n",
        "        d[1] = - np.sum(np.sign(target - x[2] - x[1]*np.power(-np.log(feature), x[0]))*np.power(-np.log(feature), x[0])*np.power(np.abs(target - x[2] - x[1]*np.power(-np.log(feature), x[0])), rho-1) * (level + (1 - 2*level)*neg(target - x[2] - x[1]*np.power(-np.log(feature), x[0]))))\n",
        "        d[2] = - np.sum(np.sign(target - x[2] - x[1]*np.power(-np.log(feature), x[0]))*np.power(np.abs(target - x[2] - x[1]*np.power(-np.log(feature), x[0])), rho-1) * (level + (1 - 2*level)*neg(target - x[2] - x[1]*np.power(-np.log(feature), x[0]))))\n",
        "        return d\n",
        "\n",
        "    elif method == 'LW':\n",
        "      def func(x):\n",
        "        return np.sum(np.power(np.abs(target - x[2] - x[1]*np.exp(np.power(-np.log(feature), x[0]))), rho)* (level + (1 - 2*level)*neg(target - x[2] - x[1]*np.exp(np.power(-np.log(feature), x[0])))))/rho\n",
        "\n",
        "      def gradient(x):\n",
        "        d = np.zeros(3)\n",
        "        d[0] = - np.sum(np.sign(target - x[2] - x[1]*np.exp(np.power(-np.log(feature), x[0])))*x[1]*np.exp(np.power(-np.log(feature), x[0]))*np.power(np.abs(target - x[2] - x[1]*np.exp(np.power(-np.log(feature), x[0]))), rho-1)*np.exp(np.power(-np.log(feature), x[0]))*np.power(-np.log(feature), x[0])*np.log(-np.log(feature)) * (level + (1 - 2*level)*neg(target - x[2] - x[1]*np.exp(np.power(-np.log(feature), x[0])))))\n",
        "        d[1] = - np.sum(np.sign(target - x[2] - x[1]*np.exp(np.power(-np.log(feature), x[0])))*np.exp(np.power(-np.log(feature), x[0]))*np.power(np.abs(target - x[2] - x[1]*np.exp(np.power(-np.log(feature), x[0]))), rho-1)*(level + (1 - 2*level)*neg(target - x[2] - x[1]*np.exp(np.power(-np.log(feature), x[0])))))\n",
        "        d[2] = - np.sum(np.sign(target - x[2] - x[1]*np.exp(np.power(-np.log(feature), x[0])))*np.power(np.abs(target - x[2] - x[1]*np.exp(np.power(-np.log(feature), x[0]))), rho-1)*(level + (1 - 2*level)*neg(target - x[2] - x[1]*np.exp(np.power(-np.log(feature), x[0])))))\n",
        "        return d\n",
        "\n",
        "    elif method == 'RV':\n",
        "      def func(x):\n",
        "        return np.sum(np.power(np.abs(target - x[2] - x[1]*np.power(feature, - x[0])), rho)*(level + (1 - 2*level)*neg(target - x[2] - x[1]*np.power(feature, -x[0]))))/rho\n",
        "\n",
        "      def gradient(x):\n",
        "        d = np.zeros(3)\n",
        "        d[0] = np.sum(np.sign(target - x[2] - x[1]*np.power(feature, - x[0]))*x[1]*np.power(feature, - x[0])*np.log(feature)*np.power(np.abs(target - x[2] - x[1]*np.power(feature, - x[0])), rho-1)*(level + (1 - 2*level)*neg(target - x[2] - x[1]*np.power(feature, -x[0]))))\n",
        "        d[1] = - np.sum(np.sign(target - x[2] - x[1]*np.power(feature, - x[0]))*np.power(feature, - x[0])*np.power(np.abs(target - x[2] - x[1]*np.power(feature, - x[0])), rho-1)*(level + (1 - 2*level)*neg(target - x[2] - x[1]*np.power(feature, -x[0]))))\n",
        "        d[2] = - np.sum(np.sign(target - x[2] - x[1]*np.power(feature, - x[0]))*np.power(np.abs(target - x[2] - x[1]*np.power(feature, - x[0])), rho-1)*(level + (1 - 2*level)*neg(target - x[2] - x[1]*np.power(feature, -x[0]))))\n",
        "        return d\n",
        "\n",
        "    z = np.array([starting_theta, 1., -1.])\n",
        "    #z = np.array([1., 1., -1.])\n",
        "    res = opt.minimize(func, z, jac = gradient, method=adam)\n",
        "\n",
        "    if method == 'W':\n",
        "        quantiles = list(map(lambda y: quantile_weibull(res.x[0], res.x[1]*target_std, res.x[2]*target_std + target_mean, y, N), alphas))\n",
        "    elif method == 'LW':\n",
        "        quantiles = list(map(lambda y: quantile_logweibull(res.x[0], res.x[1]*target_std, res.x[2]*target_std + target_mean, y, N), alphas))\n",
        "    elif method == 'RV':\n",
        "        quantiles = list(map(lambda x: quantile_of_maxima(-res.x[0], np.log(res.x[1]*target_std), 1, res.x[2]*target_std + target_mean, x, N), alphas))\n",
        "    return quantiles\n",
        "################################################################################\n",
        "def mle_bound(sample, level):\n",
        "    gamma, loc, sigma = mle_estimator(sample, level)\n",
        "    k = int(len(sample)*level)\n",
        "    return 2*np.abs(1 + gamma)/(np.sqrt(k))\n",
        "################################################################################\n",
        "def mle_bounds_bootstrap(sample, ratio, confidence):\n",
        "    gamma = mle_estimator(sample, ratio)[0]\n",
        "    sample = sorted(sample)\n",
        "    a = int(200*(confidence+1))-1\n",
        "    b = int(200*(1-confidence))-1\n",
        "    n = len(sample)\n",
        "    threshold = sample[int(n*(1 - ratio))]\n",
        "    sample_boot = np.array(sample[int(n*(1 - ratio))+1:]) - threshold\n",
        "    n_boot = len(sample_boot)\n",
        "    mle_boot = np.array(list(map(lambda x: ss.genpareto.fit(np.random.choice(sample_boot, size = n_boot), floc = 0)[0], range(400))))\n",
        "    mle_boot = sorted(mle_boot)\n",
        "    return mle_boot[a] - gamma, mle_boot[b] - gamma\n",
        "################################################################################\n",
        "def q_gamma(g, ratio, level):\n",
        "    t = ratio/(1-level)\n",
        "    return (g*np.power(t, g)*np.log(t) - np.power(t, g) + 1)/np.power(g, 2)\n",
        "################################################################################\n",
        "def pwm_weibull(sample):\n",
        "    m0 = np.mean(sample)\n",
        "    sorted_sample = sorted(sample)\n",
        "    n = len(sample)\n",
        "    m1 = np.mean(np.array(list(map(lambda x: (n-x-1)*sorted_sample[x], range(n)))))/(n-1)\n",
        "    c = np.log(2)/np.log(m0/(2*m1))\n",
        "    b = m0/math.gamma(np.log(m0/m1)/np.log(2))\n",
        "    return b, c\n",
        "################################################################################\n",
        "def get_unique_years(years):\n",
        "    unique = []\n",
        "    for year in years:\n",
        "      if not (year in unique):\n",
        "        unique.append(year)\n",
        "    return unique\n",
        "################################################################################\n",
        "def cdf_weibull(x, b, c, n):\n",
        "    return np.power(1 - np.exp(- np.power(x/b, c)), n)\n",
        "################################################################################\n",
        "def metasta(data, method, alphas):\n",
        "    if method == 'PWM':\n",
        "      data1 = data[data['prcp']>0]\n",
        "      unique_years = get_unique_years(data['year'].values)\n",
        "      n_unique = len(unique_years)\n",
        "      n = np.zeros(n_unique)\n",
        "      b = np.zeros(n_unique)\n",
        "      c = np.zeros(n_unique)\n",
        "      i = 0\n",
        "      for year in unique_years:\n",
        "        data_year = data1[data1['year'] == year]\n",
        "        n[i] = len(data_year['prcp'].values)\n",
        "        b[i], c[i] = pwm_weibull(data_year['prcp'].values)\n",
        "        i += 1\n",
        "      def func_max(y):\n",
        "        func_year = np.array(list(map(lambda x: cdf_weibull(y, b[x], c[x], n[x]), range(n_unique))))\n",
        "        return np.mean(func_year)\n",
        "      i = 0\n",
        "      quantiles = np.zeros(len(alphas))\n",
        "      for alpha in alphas:\n",
        "        def func_max_alpha(y):\n",
        "          return func_max(y) - alpha\n",
        "        quantiles[i] = opt.brentq(func_max_alpha, 0, 30000)\n",
        "        i += 1\n",
        "    return quantiles\n",
        "################################################################################\n",
        "def index_of_dispersion(data, thres):\n",
        "    data1 = data[data['prcp']>0]\n",
        "    unique_years = get_unique_years(data['year'].values)\n",
        "    n_unique = len(unique_years)\n",
        "    n = np.zeros(n_unique)\n",
        "    i = 0\n",
        "    for year in unique_years:\n",
        "        data_year = data1[(data1['year'] == year)&(data1['prcp']>thres)]\n",
        "        n[i] = len(data_year['prcp'].values)\n",
        "        i += 1\n",
        "    return n, np.var(n)/np.mean(n)\n",
        "################################################################################\n",
        "def season_cdf(data, season, method, model):\n",
        "    if season == 'winter':\n",
        "        sample = data['prcp'][(data['day']<60)|(data['day']>334)].values\n",
        "        n = 90\n",
        "    elif season == 'spring':\n",
        "        sample = data['prcp'][(data['day']>59)&(data['day']<152)].values\n",
        "        n = 92\n",
        "    elif season == 'summer':\n",
        "        sample = data['prcp'][(data['day']>151)&(data['day']<244)].values\n",
        "        n = 92\n",
        "    elif season == 'autumn':\n",
        "        sample = data['prcp'][(data['day']>243)&(data['day']<335)].values\n",
        "        n = 91\n",
        "\n",
        "    length_train = len(sample)\n",
        "    #\n",
        "    sample = sample[sample>0]\n",
        "    length_new = len(sample)\n",
        "    n = int(n*length_new/length_train)\n",
        "    #\n",
        "    block_min = int(np.power(length_train, 1/4))\n",
        "    block_max = int(np.power(length_train, 0.5))\n",
        "    number_block = int(2*np.sqrt(block_max - block_min))\n",
        "\n",
        "    alpha_min = 0.01\n",
        "    alpha_max = 0.99\n",
        "    rho = 1\n",
        "\n",
        "    feature, target = generate_model(sample, alpha_min, alpha_max, block_min, block_max, number_block, 0.5, 0, is_threshold = False)\n",
        "    alphas = np.arange(0.33, 0.67, 0.33)\n",
        "    a, b, c = Theil(feature, target, model, n, alphas)\n",
        "\n",
        "#if model = 'W'\n",
        "    if method == 'LS':\n",
        "        a1, b1, c1 = LS(feature, target, model, n, alphas)\n",
        "        return 1/c1, np.exp(b1), 0, n #cdf_weibull(x, np.exp(b), 1/c, n)\n",
        "    elif method == 'Theil':\n",
        "        #a, b, c = Theil(feature, target, model, n, alphas)\n",
        "        return 1/c, np.exp(b), 0, n #cdf_weibull(x, np.exp(b), 1/c, n)\n",
        "    elif method == 'Adam':\n",
        "        #a, res = Adam1(feature, target, model, n, alphas, c, np.exp(b), rho)\n",
        "        a, res = Adam(feature, target, model, n, alphas, c, rho)\n",
        "        return 1/res[0], res[1], res[2], n #cdf_weibull(x - res[2], res[1], 1/res[0], n)\n",
        "    elif method == 'Cobyla':\n",
        "        a, res = Cobyla(feature, target, model, n, alphas, c)\n",
        "        return 1/res[0], res[1], 0, n\n",
        "################################################################################\n",
        "def quantiles_cdf(data, method, alphas):\n",
        "    i = 0\n",
        "    level = 100\n",
        "    c1, b1, a1, n1 = season_cdf(data, 'winter', method, 'W')\n",
        "    c2, b2, a2, n2 = season_cdf(data, 'spring', method, 'W')\n",
        "    c3, b3, a3, n3 = season_cdf(data, 'summer', method, 'W')\n",
        "    c4, b4, a4, n4 = season_cdf(data, 'autumn', method, 'W')\n",
        "\n",
        "    def cdf_year(x):\n",
        "      return cdf_weibull(x-a1, b1, c1, n1)*cdf_weibull(x-a2, b2, c2, n2)*cdf_weibull(x-a3, b3, c3, n3)*cdf_weibull(x-a4, b4, c4, n4)\n",
        "    quantiles = np.zeros(len(alphas))\n",
        "\n",
        "    a = np.max([a1, a2, a3, a4])+0.01\n",
        "\n",
        "    for alpha in alphas:\n",
        "        def func_max_alpha(x):\n",
        "            return cdf_year(x) - alpha\n",
        "        if i > 0:\n",
        "          quantiles[i] = opt.brentq(func_max_alpha, quantiles[i-1], 100000)\n",
        "        else:\n",
        "          quantiles[i] = opt.brentq(func_max_alpha, a, 100000)\n",
        "        i += 1\n",
        "    return quantiles\n",
        "################################################################################\n",
        "def quantile_egev(r, p, evi, sigma, u, alphas):\n",
        "\n",
        "    quantiles = np.zeros(len(alphas))\n",
        "    i = 0\n",
        "\n",
        "    def cdf_egev(x):\n",
        "        return np.power(p, r)*np.power( 1 - (1-p)*(1-max(0, np.power((1 + evi*(x-u)/sigma), -1/evi))), -r)\n",
        "\n",
        "    for alpha in alphas:\n",
        "        def func_alpha(x):\n",
        "            return cdf_egev(x) - alpha\n",
        "        if i > 0:\n",
        "          quantiles[i] = opt.brentq(func_alpha, quantiles[i-1], 1000000)\n",
        "        else:\n",
        "          quantiles[i] = opt.brentq(func_alpha, 0, 1000000)\n",
        "        i += 1\n",
        "    return quantiles\n",
        "\n",
        "def generate_samples(n, type_distr, theta):\n",
        "    samples = np.zeros((n))\n",
        "\n",
        "    def extended_weibull(x):\n",
        "        return np.exp(-x**2)*((x+1)**(-2) + 2*x/(x+1))\n",
        "\n",
        "    if type_distr == \"weibull2\":\n",
        "        for i in range(n):\n",
        "            samples[i] = np.power(abs(random.expovariate(0.5)), 1./3)\n",
        "\n",
        "    elif type_distr == \"weibull\":\n",
        "        for i in range(n):\n",
        "            samples[i] = np.power(abs(random.expovariate(1)), theta)\n",
        "\n",
        "    elif type_distr == \"extended_weibull\":\n",
        "        samples = ss.rvs_ratio_uniforms(extended_weibull, umax = 1, vmin = 0, vmax = 5, size = n)\n",
        "\n",
        "    elif type_distr == \"modified_weibull\":\n",
        "        for i in range(n):\n",
        "            samples[i] = random.expovariate(1)\n",
        "            samples[i] = samples[i]*np.log(samples[i])\n",
        "\n",
        "    elif type_distr == \"logweibull\":\n",
        "        for i in range(n):\n",
        "            samples[i] = np.exp(np.power(abs(random.expovariate(1)), theta))\n",
        "\n",
        "    elif type_distr == \"logweibull2\":\n",
        "        for i in range(n):\n",
        "            samples[i] = 0.25*abs(random.paretovariate(1)-1)**0.33\n",
        "\n",
        "    elif type_distr == \"logweibull3\":\n",
        "        for i in range(n):\n",
        "            samples[i] = np.exp(np.power(random.expovariate(1), 0.33))\n",
        "\n",
        "    elif type_distr == \"normal\":\n",
        "        for i in range(n):\n",
        "            samples[i] = random.normalvariate(0, 1)\n",
        "\n",
        "    elif type_distr == \"absolute_normal\":\n",
        "        for i in range(n):\n",
        "            samples[i] = abs(random.normalvariate(0, 1))\n",
        "\n",
        "    elif type_distr == \"lognormal\":\n",
        "        samples = ss.lognorm.rvs(1, size = n)\n",
        "\n",
        "    elif type_distr == \"exponential\":\n",
        "        for i in range(n):\n",
        "           # samples[i] = np.round(random.expovariate(1), decimals = 1)\n",
        "           samples[i] = random.expovariate(1) + theta\n",
        "\n",
        "    elif type_distr == \"quadratic\":\n",
        "        for i in range(n):\n",
        "            samples[i] = np.round(random.paretovariate(2), decimals = 1)\n",
        "\n",
        "    elif type_distr == \"pareto2\":\n",
        "        for i in range(n):\n",
        "            samples[i] = random.paretovariate(2) - 1.\n",
        "\n",
        "    elif type_distr == \"pareto3\":\n",
        "        for i in range(n):\n",
        "            samples[i] = random.paretovariate(0.5)\n",
        "\n",
        "    elif type_distr == \"pareto1\":\n",
        "        for i in range(n):\n",
        "            samples[i] = (random.paretovariate(1) - 1.)/3.\n",
        "\n",
        "    elif type_distr == \"cauchy1\":\n",
        "        for i in range(n):\n",
        "            samples[i] = random.normalvariate(0, 1)/random.normalvariate(0, 1)\n",
        "\n",
        "    elif type_distr == \"cauchy2\":\n",
        "        for i in range(n):\n",
        "            samples[i] = abs(random.normalvariate(0, 5)/random.normalvariate(0, 1))\n",
        "\n",
        "    elif type_distr == \"logpareto\":\n",
        "        for i in range(n):\n",
        "            samples[i] = np.exp(random.paretovariate(2))\n",
        "\n",
        "    elif type_distr == \"logcauchy\":\n",
        "        for i in range(n):\n",
        "            samples[i] = np.exp(random.paretovariate(1))\n",
        "\n",
        "    elif type_distr == \"loggamma\":\n",
        "        for i in range(n):\n",
        "            samples[i] = np.exp(random.gammavariate(2,2))\n",
        "\n",
        "    elif type_distr == \"gamma1\":\n",
        "        for i in range(n):\n",
        "            samples[i] = random.gammavariate(4,1)\n",
        "\n",
        "    elif type_distr == \"gamma2\":\n",
        "        for i in range(n):\n",
        "            samples[i] = random.gammavariate(0.25,1)\n",
        "\n",
        "    elif type_distr == \"genpareto\":\n",
        "        samples = ss.genpareto.rvs(theta, size = n)\n",
        "\n",
        "    elif type_distr == \"student\":\n",
        "        samples = ss.t.rvs(theta, size = n)\n",
        "\n",
        "    elif type_distr == \"burr\":\n",
        "        samples = ss.burr.rvs(theta, 2, size = n)\n",
        "\n",
        "    sorted_samples = sorted(samples)\n",
        "    return samples"
      ]
    },
    {
      "cell_type": "markdown",
      "metadata": {
        "id": "nqQKMkWhzvON"
      },
      "source": [
        "#Uploading data and simple checks"
      ]
    },
    {
      "cell_type": "code",
      "execution_count": null,
      "metadata": {
        "colab": {
          "base_uri": "https://localhost:8080/",
          "height": 73
        },
        "id": "qcue9naJ87Ut",
        "outputId": "0d105ce7-df60-4420-cf13-d67a994c6577"
      },
      "outputs": [
        {
          "data": {
            "text/html": [
              "\n",
              "     <input type=\"file\" id=\"files-33e09ee7-1d59-4cd3-8c7c-43ecad348ed3\" name=\"files[]\" multiple disabled\n",
              "        style=\"border:none\" />\n",
              "     <output id=\"result-33e09ee7-1d59-4cd3-8c7c-43ecad348ed3\">\n",
              "      Upload widget is only available when the cell has been executed in the\n",
              "      current browser session. Please rerun this cell to enable.\n",
              "      </output>\n",
              "      <script>// Copyright 2017 Google LLC\n",
              "//\n",
              "// Licensed under the Apache License, Version 2.0 (the \"License\");\n",
              "// you may not use this file except in compliance with the License.\n",
              "// You may obtain a copy of the License at\n",
              "//\n",
              "//      http://www.apache.org/licenses/LICENSE-2.0\n",
              "//\n",
              "// Unless required by applicable law or agreed to in writing, software\n",
              "// distributed under the License is distributed on an \"AS IS\" BASIS,\n",
              "// WITHOUT WARRANTIES OR CONDITIONS OF ANY KIND, either express or implied.\n",
              "// See the License for the specific language governing permissions and\n",
              "// limitations under the License.\n",
              "\n",
              "/**\n",
              " * @fileoverview Helpers for google.colab Python module.\n",
              " */\n",
              "(function(scope) {\n",
              "function span(text, styleAttributes = {}) {\n",
              "  const element = document.createElement('span');\n",
              "  element.textContent = text;\n",
              "  for (const key of Object.keys(styleAttributes)) {\n",
              "    element.style[key] = styleAttributes[key];\n",
              "  }\n",
              "  return element;\n",
              "}\n",
              "\n",
              "// Max number of bytes which will be uploaded at a time.\n",
              "const MAX_PAYLOAD_SIZE = 100 * 1024;\n",
              "\n",
              "function _uploadFiles(inputId, outputId) {\n",
              "  const steps = uploadFilesStep(inputId, outputId);\n",
              "  const outputElement = document.getElementById(outputId);\n",
              "  // Cache steps on the outputElement to make it available for the next call\n",
              "  // to uploadFilesContinue from Python.\n",
              "  outputElement.steps = steps;\n",
              "\n",
              "  return _uploadFilesContinue(outputId);\n",
              "}\n",
              "\n",
              "// This is roughly an async generator (not supported in the browser yet),\n",
              "// where there are multiple asynchronous steps and the Python side is going\n",
              "// to poll for completion of each step.\n",
              "// This uses a Promise to block the python side on completion of each step,\n",
              "// then passes the result of the previous step as the input to the next step.\n",
              "function _uploadFilesContinue(outputId) {\n",
              "  const outputElement = document.getElementById(outputId);\n",
              "  const steps = outputElement.steps;\n",
              "\n",
              "  const next = steps.next(outputElement.lastPromiseValue);\n",
              "  return Promise.resolve(next.value.promise).then((value) => {\n",
              "    // Cache the last promise value to make it available to the next\n",
              "    // step of the generator.\n",
              "    outputElement.lastPromiseValue = value;\n",
              "    return next.value.response;\n",
              "  });\n",
              "}\n",
              "\n",
              "/**\n",
              " * Generator function which is called between each async step of the upload\n",
              " * process.\n",
              " * @param {string} inputId Element ID of the input file picker element.\n",
              " * @param {string} outputId Element ID of the output display.\n",
              " * @return {!Iterable<!Object>} Iterable of next steps.\n",
              " */\n",
              "function* uploadFilesStep(inputId, outputId) {\n",
              "  const inputElement = document.getElementById(inputId);\n",
              "  inputElement.disabled = false;\n",
              "\n",
              "  const outputElement = document.getElementById(outputId);\n",
              "  outputElement.innerHTML = '';\n",
              "\n",
              "  const pickedPromise = new Promise((resolve) => {\n",
              "    inputElement.addEventListener('change', (e) => {\n",
              "      resolve(e.target.files);\n",
              "    });\n",
              "  });\n",
              "\n",
              "  const cancel = document.createElement('button');\n",
              "  inputElement.parentElement.appendChild(cancel);\n",
              "  cancel.textContent = 'Cancel upload';\n",
              "  const cancelPromise = new Promise((resolve) => {\n",
              "    cancel.onclick = () => {\n",
              "      resolve(null);\n",
              "    };\n",
              "  });\n",
              "\n",
              "  // Wait for the user to pick the files.\n",
              "  const files = yield {\n",
              "    promise: Promise.race([pickedPromise, cancelPromise]),\n",
              "    response: {\n",
              "      action: 'starting',\n",
              "    }\n",
              "  };\n",
              "\n",
              "  cancel.remove();\n",
              "\n",
              "  // Disable the input element since further picks are not allowed.\n",
              "  inputElement.disabled = true;\n",
              "\n",
              "  if (!files) {\n",
              "    return {\n",
              "      response: {\n",
              "        action: 'complete',\n",
              "      }\n",
              "    };\n",
              "  }\n",
              "\n",
              "  for (const file of files) {\n",
              "    const li = document.createElement('li');\n",
              "    li.append(span(file.name, {fontWeight: 'bold'}));\n",
              "    li.append(span(\n",
              "        `(${file.type || 'n/a'}) - ${file.size} bytes, ` +\n",
              "        `last modified: ${\n",
              "            file.lastModifiedDate ? file.lastModifiedDate.toLocaleDateString() :\n",
              "                                    'n/a'} - `));\n",
              "    const percent = span('0% done');\n",
              "    li.appendChild(percent);\n",
              "\n",
              "    outputElement.appendChild(li);\n",
              "\n",
              "    const fileDataPromise = new Promise((resolve) => {\n",
              "      const reader = new FileReader();\n",
              "      reader.onload = (e) => {\n",
              "        resolve(e.target.result);\n",
              "      };\n",
              "      reader.readAsArrayBuffer(file);\n",
              "    });\n",
              "    // Wait for the data to be ready.\n",
              "    let fileData = yield {\n",
              "      promise: fileDataPromise,\n",
              "      response: {\n",
              "        action: 'continue',\n",
              "      }\n",
              "    };\n",
              "\n",
              "    // Use a chunked sending to avoid message size limits. See b/62115660.\n",
              "    let position = 0;\n",
              "    do {\n",
              "      const length = Math.min(fileData.byteLength - position, MAX_PAYLOAD_SIZE);\n",
              "      const chunk = new Uint8Array(fileData, position, length);\n",
              "      position += length;\n",
              "\n",
              "      const base64 = btoa(String.fromCharCode.apply(null, chunk));\n",
              "      yield {\n",
              "        response: {\n",
              "          action: 'append',\n",
              "          file: file.name,\n",
              "          data: base64,\n",
              "        },\n",
              "      };\n",
              "\n",
              "      let percentDone = fileData.byteLength === 0 ?\n",
              "          100 :\n",
              "          Math.round((position / fileData.byteLength) * 100);\n",
              "      percent.textContent = `${percentDone}% done`;\n",
              "\n",
              "    } while (position < fileData.byteLength);\n",
              "  }\n",
              "\n",
              "  // All done.\n",
              "  yield {\n",
              "    response: {\n",
              "      action: 'complete',\n",
              "    }\n",
              "  };\n",
              "}\n",
              "\n",
              "scope.google = scope.google || {};\n",
              "scope.google.colab = scope.google.colab || {};\n",
              "scope.google.colab._files = {\n",
              "  _uploadFiles,\n",
              "  _uploadFilesContinue,\n",
              "};\n",
              "})(self);\n",
              "</script> "
            ],
            "text/plain": [
              "<IPython.core.display.HTML object>"
            ]
          },
          "metadata": {},
          "output_type": "display_data"
        },
        {
          "name": "stdout",
          "output_type": "stream",
          "text": [
            "Saving USW00014898.csv to USW00014898.csv\n"
          ]
        }
      ],
      "source": [
        "from google.colab import files\n",
        "uploaded = files.upload()"
      ]
    },
    {
      "cell_type": "code",
      "execution_count": 159,
      "metadata": {
        "colab": {
          "base_uri": "https://localhost:8080/"
        },
        "id": "kmpt8cYA9bh8",
        "outputId": "e0c6846a-aa78-42af-b0e1-68dba0d500d1"
      },
      "outputs": [
        {
          "output_type": "execute_result",
          "data": {
            "text/plain": [
              "(1, 1.000306352436596, 0.051882973369220334, '1898-01-01', '2023-03-29')"
            ]
          },
          "metadata": {},
          "execution_count": 159
        }
      ],
      "source": [
        "data = pd.read_csv(\"/content/USW00014845.csv\", sep = \",\", index_col=False)\n",
        "filecheck(data)"
      ]
    },
    {
      "cell_type": "code",
      "execution_count": null,
      "metadata": {
        "colab": {
          "base_uri": "https://localhost:8080/"
        },
        "id": "EvpY9FpsouR_",
        "outputId": "74f901b2-b5a3-44f7-f443-4cf76555839a"
      },
      "outputs": [
        {
          "data": {
            "text/plain": [
              "(1907, 2018)"
            ]
          },
          "execution_count": 30,
          "metadata": {},
          "output_type": "execute_result"
        }
      ],
      "source": [
        "prcp_check(data)"
      ]
    },
    {
      "cell_type": "markdown",
      "metadata": {
        "id": "aWVYumVWA6X4"
      },
      "source": [
        "##Data preprocessing"
      ]
    },
    {
      "cell_type": "code",
      "execution_count": null,
      "metadata": {
        "id": "1YL9Ev3GEpdQ"
      },
      "outputs": [],
      "source": [
        "#For some reasons it should be done after every shutdown of the notebook\n",
        "!pip install pygam\n",
        "\n",
        "#Importing pygam\n",
        "from pygam import GAM, s"
      ]
    },
    {
      "cell_type": "code",
      "execution_count": 160,
      "metadata": {
        "id": "VMckG5PkBBNa"
      },
      "outputs": [],
      "source": [
        "#Choice of the longest row of \"good\" years\n",
        "#year_first = 1887\n",
        "#year_final = 2022\n",
        "year_first, year_final = prcp_check(data)\n",
        "\n",
        "#Removing all 29 February\n",
        "arr = []\n",
        "for i in range(len(data)):\n",
        "  if data['DATE'][i][5:10] == '02-29':\n",
        "    arr.append(i)\n",
        "\n",
        "data = data.drop(labels = arr, axis = 0)\n",
        "\n",
        "#Removing bad years\n",
        "flag = 0\n",
        "while int(data['DATE'][data.index[flag]][0:4]) < year_first:\n",
        "    flag += 1\n",
        "flag1 = len(data['DATE']) -1\n",
        "while int(data['DATE'][data.index[flag1]][0:4]) != year_final:\n",
        "    flag1 -= 1\n",
        "\n",
        "arr = data.index[flag:flag1+1]\n",
        "date = data['DATE'][arr]\n",
        "prcp = data['PRCP'][arr]\n",
        "\n",
        "#Analysing trend, it is not necessary\n",
        "#d = {'target': prcp, 'feature': range(len(prcp))}\n",
        "#data_prcp = pd.DataFrame(d)\n",
        "#m2 = smf.ols('target ~ feature', data=data_prcp)\n",
        "#m2fitted = m2.fit()\n",
        "#print(m2fitted.summary())\n",
        "\n",
        "#Extracting years and numbers of a day in year from date\n",
        "year = np.array(list(map(lambda x: int(date[x][0:4]), arr)))\n",
        "day_in_year = np.array(list(map(lambda x: month_day_to_number(int(date[x][5:7]), int(date[x][8:10])), arr)))\n",
        "\n",
        "#Dataset for applying GAM\n",
        "d = {'prcp': prcp, 'year': year, 'day': day_in_year}\n",
        "data_prcp = pd.DataFrame(d)\n",
        "\n",
        "#Simple check how many nans we have. It's not necessary\n",
        "#len_prcp = len(prcp[np.isnan(prcp)])\n",
        "#len(prcp), len_prcp\n",
        "\n",
        "#Removing all zero and NaN precipitations\n",
        "data_nonzero = data_prcp[(data_prcp['prcp']>0)&(np.isnan(data_prcp['prcp']) == False)]\n",
        "#\n",
        "#q, ratio = index_of_dispersion(data_nonzero)\n",
        "#ratio"
      ]
    },
    {
      "cell_type": "code",
      "execution_count": 161,
      "metadata": {
        "id": "rGplx_hIe5QF"
      },
      "outputs": [],
      "source": [
        "#Learning GAM\n",
        "X = data_nonzero[['year', 'day']]\n",
        "y = data_nonzero['prcp']\n",
        "\n",
        "gam = GAM(s(0)+s(1), distribution='gamma', link='identity').fit(X, y)\n",
        "#gam.summary()\n",
        "\n",
        "data_nonzero['diff'] = y - gam.predict(X)"
      ]
    },
    {
      "cell_type": "code",
      "execution_count": null,
      "metadata": {
        "id": "cAaiwHwGOsmU"
      },
      "outputs": [],
      "source": [
        "#get_unique_years(data_nonzero['year'])\n",
        "\n",
        "#Some figures to show the work of GAM, it's not necessary\n",
        "#XX = gam.generate_X_grid(term=1, n=365)\n",
        "#plt.plot(XX, gam.predict(XX), 'r--')\n",
        "#plt.scatter(X['day'], y, facecolor='gray', edgecolors='none')\n",
        "\n",
        "#Some figures to show the work of GAM, it's not necessary\n",
        "#XX = gam.generate_X_grid(term=0, n=year_final-year_first+1)\n",
        "#plt.plot(XX, gam.predict(XX), 'r--')\n",
        "#plt.scatter(X['year'], y, facecolor='gray', edgecolors='none')"
      ]
    },
    {
      "cell_type": "markdown",
      "metadata": {
        "id": "gMRrUX-gANNg"
      },
      "source": [
        "#Hill plot"
      ]
    },
    {
      "cell_type": "code",
      "execution_count": null,
      "metadata": {
        "colab": {
          "base_uri": "https://localhost:8080/",
          "height": 448
        },
        "id": "zArOTsVYAJoK",
        "outputId": "440145c5-00bc-4913-a5cb-2bbc32befce0"
      },
      "outputs": [
        {
          "data": {
            "text/plain": [
              "[<matplotlib.lines.Line2D at 0x7f5b1bbad480>]"
            ]
          },
          "execution_count": 18,
          "metadata": {},
          "output_type": "execute_result"
        },
        {
          "data": {
            "image/png": "[encoded data removed]",
            "text/plain": [
              "<Figure size 640x480 with 1 Axes>"
            ]
          },
          "metadata": {},
          "output_type": "display_data"
        }
      ],
      "source": [
        "sample = data_nonzero['diff']\n",
        "length = len(sample)\n",
        "sorted_sample = sorted(sample)\n",
        "level = 0.95\n",
        "sample_tail = np.array(sorted_sample[int(length*level):])\n",
        "quant_arr = np.array(list(map(lambda x: -np.log(1 - x), np.arange(level, 1, (1-level)/len(sample_tail)) )))\n",
        "d = {'target': sample_tail, 'feature': quant_arr}\n",
        "data_hill = pd.DataFrame(d)\n",
        "m = smf.ols('np.log(target) ~ feature', data=data_hill)\n",
        "mfit = m.fit()\n",
        "plt.plot(quant_arr, np.log(sample_tail), 'bo')\n",
        "plt.plot(quant_arr, mfit.params[0]+mfit.params[1]*quant_arr, 'r-')"
      ]
    },
    {
      "cell_type": "markdown",
      "metadata": {
        "id": "B_vILChPA8_X"
      },
      "source": [
        "#Test simulation"
      ]
    },
    {
      "cell_type": "code",
      "execution_count": null,
      "metadata": {
        "colab": {
          "base_uri": "https://localhost:8080/"
        },
        "id": "eVc5KDoMBBHz",
        "outputId": "9c50d332-a69a-452b-e916-7c827757d3ec"
      },
      "outputs": [
        {
          "name": "stderr",
          "output_type": "stream",
          "text": [
            "100%|██████████| 19/19 [00:00<00:00, 238.76it/s]\n"
          ]
        }
      ],
      "source": [
        "#here my test doesn't work, see file Test_discrete\n",
        "n=2000\n",
        "step = 10\n",
        "m=1000\n",
        "theta = 1\n",
        "u_1 = -1.65\n",
        "list_statistic = []\n",
        "list_k = []\n",
        "samples = []\n",
        "for i in range(m):\n",
        "    samples.append(generate_samples(n, \"student\", theta))\n",
        "\n",
        "for k_n in tqdm(range(10, 200, step)):\n",
        "    counter = 0\n",
        "    for i in range(m):\n",
        "        #samples = generate_samples(n, \"weibull1\", theta)\n",
        "        statistics = test_statistic(n, int(k_n/2), samples[i], 0.5, \"RV-W\")\n",
        "        if statistics < u_1:\n",
        "            counter += 1./m\n",
        "    list_statistic.append(counter)\n",
        "    list_k.append(k_n)"
      ]
    },
    {
      "cell_type": "code",
      "execution_count": null,
      "metadata": {
        "colab": {
          "base_uri": "https://localhost:8080/",
          "height": 466
        },
        "id": "qaccR4fjEUV5",
        "outputId": "049a05ca-4be8-4632-e732-83890efc9a67"
      },
      "outputs": [
        {
          "data": {
            "text/plain": [
              "Text(0.5, 0, 'k')"
            ]
          },
          "execution_count": 15,
          "metadata": {},
          "output_type": "execute_result"
        },
        {
          "data": {
            "image/png": "[encoded data removed]",
            "text/plain": [
              "<Figure size 640x480 with 1 Axes>"
            ]
          },
          "metadata": {},
          "output_type": "display_data"
        }
      ],
      "source": [
        "fig = plt.figure()\n",
        "list_level = np.zeros(19) + 0.05\n",
        "list_1 = np.zeros(19)\n",
        "list_1[0] += 0.2\n",
        "plt.plot(list_k, list_statistic, 'b--')\n",
        "plt.plot(list_k, list_level, 'y')\n",
        "plt.plot(list_k[0], list_1[0], 'black')\n",
        "plt.xlabel(\"k\")\n",
        "#fig.savefig('/content/drive/weibull_1.jpg', dpi = 1000)"
      ]
    },
    {
      "cell_type": "markdown",
      "metadata": {
        "id": "lOtR9jNDiaml"
      },
      "source": [
        "#Test"
      ]
    },
    {
      "cell_type": "code",
      "execution_count": null,
      "metadata": {
        "colab": {
          "base_uri": "https://localhost:8080/"
        },
        "id": "qIpPAvUqjTYk",
        "outputId": "b2ee43a8-bc78-4610-f66a-d2de7b7a2cf7"
      },
      "outputs": [
        {
          "data": {
            "text/plain": [
              "1111"
            ]
          },
          "execution_count": 92,
          "metadata": {},
          "output_type": "execute_result"
        }
      ],
      "source": [
        "#Some preparations to apply my test\n",
        "sample = np.array(data_nonzero['diff'])\n",
        "length = len(sample)\n",
        "sample_train = sample[:int(length/21)]\n",
        "new_alphas = list(map(lambda x: 0.95+x*0.00025, range(200)))\n",
        "length_train = len(sample_train)\n",
        "\n",
        "u_1 = ss.norm.ppf(0.95)\n",
        "sig = np.sqrt(1 + np.power(2*np.square(np.log(2)), -1))\n",
        "\n",
        "#To distinguish between Weibull-type and log-Weibull-type tails set method = \"W_LW\" and select glob = 3.5\n",
        "#To distinguish between log-Weibull-type and Pareto-like tails set method = \"LW_Pareto\" and select glob = 1.1\n",
        "method = \"RV_W\"\n",
        "glob = 0.3\n",
        "\n",
        "array = np.arange(0.005, 0.05, 0.0025)\n",
        "array_back = np.ones(len(array)) - array\n",
        "array_length = np.array(list(map(lambda x: int(length_train*x), array)))\n",
        "length_train"
      ]
    },
    {
      "cell_type": "code",
      "execution_count": null,
      "metadata": {
        "colab": {
          "base_uri": "https://localhost:8080/",
          "height": 447
        },
        "id": "zWJjLsM9Ry1H",
        "outputId": "4bec1ca6-1a24-4a7c-fc25-db2a77b59f8a"
      },
      "outputs": [
        {
          "data": {
            "text/plain": [
              "[<matplotlib.lines.Line2D at 0x7b35e22208e0>]"
            ]
          },
          "execution_count": 93,
          "metadata": {},
          "output_type": "execute_result"
        },
        {
          "data": {
            "image/png": "[encoded data removed]",
            "text/plain": [
              "<Figure size 640x480 with 1 Axes>"
            ]
          },
          "metadata": {},
          "output_type": "display_data"
        }
      ],
      "source": [
        "test_statistic_list = np.array(list(map(lambda x: test_statistic(length_train, int(x/2), sorted(sample_train), glob, method), array_length)))\n",
        "test_statistic_list1 = np.array(list(map(lambda x: calculate_statistic_test(length_train, int(x/2), \"loc-scale\", sorted(sample_train), 'RV-W', glob), array_length)))\n",
        "plt.plot(array_back, -sig*u_1*np.ones(len(array)), 'y-')\n",
        "plt.plot(array_back, test_statistic_list, 'b-')\n",
        "plt.plot(array_back, test_statistic_list, 'r-')"
      ]
    },
    {
      "cell_type": "markdown",
      "metadata": {
        "id": "XSmrbIsyBwf6"
      },
      "source": [
        "#Extrapolation (application of the block quantiles method and its comparison with GPD+MLE)"
      ]
    },
    {
      "cell_type": "code",
      "execution_count": 162,
      "metadata": {
        "id": "CK108tuLBq1B"
      },
      "outputs": [],
      "source": [
        "#Some preparations\n",
        "#sample = list(data_nonzero['diff'])\n",
        "#random.shuffle(sample)\n",
        "sample = data_nonzero['diff']\n",
        "length = len(sample)\n",
        "sample_train = sample[:int(length/11)]\n",
        "sample_test = sample[int(length/11):]\n",
        "length_test = len(sample_test)\n",
        "confidence = 0.95 #for CI\n",
        "new_alphas = list(map(lambda x: 0.98+x*0.0001, range(190)))\n",
        "new_alphas_train = list(map(lambda x: 0.90+x*0.001, range(100)))\n",
        "sorted_sample_train = sorted(sample_train)\n",
        "sorted_sample_test = sorted(sample_test)\n",
        "empirical_quantiles = list(map(lambda x: sorted_sample_test[int(length_test*x)-1], new_alphas))"
      ]
    },
    {
      "cell_type": "code",
      "execution_count": 163,
      "metadata": {
        "colab": {
          "base_uri": "https://localhost:8080/",
          "height": 447
        },
        "id": "2eoM06tOCnnB",
        "outputId": "172293e0-5b54-473d-f7d4-b8e0ce966d5f"
      },
      "outputs": [
        {
          "output_type": "execute_result",
          "data": {
            "text/plain": [
              "<matplotlib.legend.Legend at 0x7ee5419f49a0>"
            ]
          },
          "metadata": {},
          "execution_count": 163
        },
        {
          "output_type": "display_data",
          "data": {
            "text/plain": [
              "<Figure size 640x480 with 1 Axes>"
            ],
            "image/png": "[encoded data removed]"
          },
          "metadata": {}
        }
      ],
      "source": [
        "#Here we find the interval of stability of the EVI estimator to select the threshold\n",
        "\n",
        "#est_hill = list(map(lambda x: hill_estimator(sample, 1-x), new_alphas_train))\n",
        "#est_moment = list(map(lambda x: moment_estimator(sample, 1-x), new_alphas_train))\n",
        "est_mle = list(map(lambda x: mle_estimator(sample_train, 1-x)[0], new_alphas_train[:90]))\n",
        "#est_CIup_mle = list(map(lambda x: mle_estimator(sample_train, 1-x)[0] + mle_bound(sample_train, 1-x), new_alphas_train[:90]))\n",
        "#est_CIdown_mle = list(map(lambda x: mle_estimator(sample_train, 1-x)[0] - mle_bound(sample_train, 1-x), new_alphas_train[:90]))\n",
        "#est_LWmle = list(map(lambda x: MLE_logWeibull2(sample, 1-x, 'Cobyla')[1], new_alphas_train[:90]))\n",
        "#est_intervals = list(map(lambda x: intervals_estimator(sample_train, 1-x), new_alphas_train))\n",
        "#plt.plot(new_alphas_train, est_hill, 'r--', label = 'Hill')\n",
        "#plt.plot(new_alphas_train, est_moment, 'g--', label = 'Moment')\n",
        "plt.plot(new_alphas_train[:90], est_mle, 'b--', label = 'MLE')\n",
        "#plt.plot(new_alphas_train[:90], est_CIup_mle, 'r:', label = 'MLE_bound')\n",
        "#plt.plot(new_alphas_train[:90], est_CIdown_mle, 'r:', label = 'MLE_bound')\n",
        "#plt.plot(new_alphas_train[:90], est_LWmle, 'b--', label = 'MLE_logW')\n",
        "#plt.plot(new_alphas_train, est_intervals, 'r--', label = 'Intervals')\n",
        "plt.legend()"
      ]
    },
    {
      "cell_type": "code",
      "execution_count": 38,
      "metadata": {
        "colab": {
          "base_uri": "https://localhost:8080/"
        },
        "id": "97xYjL99uxFz",
        "outputId": "faba5104-5e09-478a-8fbd-cdb9072c8142"
      },
      "outputs": [
        {
          "output_type": "execute_result",
          "data": {
            "text/plain": [
              "1111"
            ]
          },
          "metadata": {},
          "execution_count": 38
        }
      ],
      "source": [
        "len(sample_train)"
      ]
    },
    {
      "cell_type": "code",
      "execution_count": 164,
      "metadata": {
        "id": "8fJtUIQfFAQB"
      },
      "outputs": [],
      "source": [
        "ratio_of_high_values = 0.07\n",
        "length_train = len(sample_train)\n",
        "N_for_check = 1\n",
        "evi = hill_estimator(sample_train, ratio_of_high_values)\n",
        "evi_moment = moment_estimator(sample_train, ratio_of_high_values)\n",
        "sigma = sigma_estimator(sample_train, ratio_of_high_values)\n",
        "theta = 1 #intervals_estimator(sample, ratio_of_high_values)\n",
        "evi_pmle, loc_pmle, sigma_pmle = mle_estimator(sample_train, ratio_of_high_values)\n",
        "threshold = sorted_sample_train[int(length_train*(1 - ratio_of_high_values))]\n",
        "estimated_quantiles_classical = list(map(lambda x: quantile_classical(evi, sigma, theta, ratio_of_high_values, threshold, x, N_for_check), new_alphas))\n",
        "moment_quantiles = list(map(lambda x: quantile_classical(evi_moment, sigma, theta, ratio_of_high_values, threshold, x, N_for_check), new_alphas))\n",
        "estimated_genpareto = list(map(lambda x: quantile_classical(evi_pmle, sigma_pmle, theta, ratio_of_high_values, threshold, x, N_for_check), new_alphas))"
      ]
    },
    {
      "cell_type": "code",
      "execution_count": 119,
      "metadata": {
        "id": "3BFUzE9SCJhH"
      },
      "outputs": [],
      "source": [
        "mle_boot_bounds = mle_bounds_bootstrap(sample_train, ratio_of_high_values, confidence)\n",
        "bup = sigma_pmle*mle_boot_bounds[0]\n",
        "bdown = sigma_pmle*mle_boot_bounds[1]\n",
        "boot_bound_up = list(map(lambda x: bup*q_gamma(evi_pmle, ratio_of_high_values, x), new_alphas))\n",
        "boot_bound_down = list(map(lambda x: bdown*q_gamma(evi_pmle, ratio_of_high_values, x), new_alphas))"
      ]
    },
    {
      "cell_type": "code",
      "execution_count": 165,
      "metadata": {
        "id": "3Eo-kkqYHL9y"
      },
      "outputs": [],
      "source": [
        "#Setting hyperparameters for the block quantiles method\n",
        "block_min = int(np.power(length_train, 1/4))\n",
        "block_max = int(np.power(length_train, 3/4))\n",
        "number_block = int(2*np.sqrt(block_max - block_min))\n",
        "\n",
        "alpha_min = 0.01\n",
        "alpha_max = 0.99\n",
        "rho = 2"
      ]
    },
    {
      "cell_type": "code",
      "execution_count": 166,
      "metadata": {
        "id": "ebFie9hK8DOo"
      },
      "outputs": [],
      "source": [
        "#Block quantiles method for Weibull model\n",
        "feature1, target1 = generate_model(sample_train, alpha_min, alpha_max, block_min, block_max, number_block, ratio_of_high_values, threshold, is_threshold = False)\n",
        "\n",
        "estimated_quantiles2, sig1, starting_theta = LS(feature1, target1, 'W', N_for_check, new_alphas)\n",
        "quantiles_theil1, sig2, starting_theta2 = Theil(feature1, target1, 'W', N_for_check, new_alphas)\n",
        "#quantiles_cobyla, res_cob = Cobyla(feature1, target1, 'W', N_for_check, new_alphas, starting_theta)\n",
        "quantiles_adam, res_adam = Adam(feature1, target1, 'W', N_for_check, new_alphas, starting_theta, rho)\n",
        "#starting_theta, starting_theta2, res_cob, res_adam"
      ]
    },
    {
      "cell_type": "code",
      "execution_count": 55,
      "metadata": {
        "id": "2SDGGkvteruS"
      },
      "outputs": [],
      "source": [
        "#Quantile regression\n",
        "quantiles_ls_down = QuantLS(feature1, target1, 'W', 0.025, N_for_check, new_alphas)\n",
        "quantiles_ls_up = QuantLS(feature1, target1, 'W', 0.975, N_for_check, new_alphas)\n",
        "quantiles_adam_up = QuantAdam(feature1, target1, 'W', 0.975, N_for_check, new_alphas, starting_theta, rho)\n",
        "quantiles_adam_down = QuantAdam(feature1, target1, 'W', 0.025, N_for_check, new_alphas, starting_theta, rho)\n",
        "quantiles_theil_up = QuantTheil(feature1, target1, 'W', 0.975, N_for_check, new_alphas)\n",
        "quantiles_theil_down = QuantTheil(feature1, target1, 'W', 0.025, N_for_check, new_alphas)"
      ]
    },
    {
      "cell_type": "code",
      "execution_count": null,
      "metadata": {
        "id": "ecNmN-EyGzVe"
      },
      "outputs": [],
      "source": [
        "consensus = (quantiles_adam + quantiles_theil1 + estimated_quantiles2)/3.\n",
        "#consensus1 = (quantiles_cobyla + quantiles_theil1 + estimated_quantiles2)/3.\n",
        "#consensus2 = (quantiles_cobyla + quantiles_theil1 + estimated_quantiles2 + quantiles_adam)/4.\n",
        "consensus_down = (quantiles_adam + quantiles_theil_down + quantiles_ls_down)/3.\n",
        "consensus_up = (quantiles_adam_up + quantiles_theil_up + quantiles_ls_up)/3.\n",
        "plt.plot(empirical_quantiles, empirical_quantiles, 'bo', label = \"Empirical\")\n",
        "#plt.plot(np.array(empirical_quantiles), np.array(estimated_genpareto) - np.array(empirical_quantiles), 'r-.', label = \"MLE\")\n",
        "plt.plot(np.array(empirical_quantiles), np.array(estimated_genpareto), 'r-.', label = \"MLE\")\n",
        "plt.plot(empirical_quantiles, np.array(estimated_genpareto) - np.array(boot_bound_up), 'r:', label = \"MLE 90% CI\")\n",
        "plt.plot(empirical_quantiles, np.array(estimated_genpareto) - np.array(boot_bound_down), 'r:')\n",
        "#plt.plot(empirical_quantiles, estimated_quantiles_classical, 'g-.')\n",
        "#plt.plot(empirical_quantiles, moment_quantiles, 'y:')\n",
        "#plt.plot(empirical_quantiles, quantiles_adam, 'm--', label = \"Adam\")\n",
        "#plt.plot(empirical_quantiles, quantiles_adam_up, 'g:', label = \"Adam 90% CI\")\n",
        "#plt.plot(empirical_quantiles, quantiles_adam_down, 'g:')\n",
        "#plt.plot(empirical_quantiles, quantiles_cobyla, 'k--', label = \"Cobyla\")\n",
        "#plt.plot(empirical_quantiles, estimated_quantiles2, 'y--', label = \"LS\")\n",
        "plt.plot(empirical_quantiles, consensus_up, 'g:', label = \"Consensus 90% CI\")\n",
        "plt.plot(empirical_quantiles, consensus_down, 'g:')\n",
        "#plt.plot(empirical_quantiles, quantiles_theil1, 'g--', label = \"Theil\")\n",
        "plt.plot(empirical_quantiles, consensus, 'g--', label = \"Consensus\")\n",
        "#plt.plot(empirical_quantiles, consensus1, ':', label = \"Consensus_Cob\")\n",
        "plt.legend()"
      ]
    },
    {
      "cell_type": "code",
      "execution_count": null,
      "metadata": {
        "id": "uR8ITgCFiluC"
      },
      "outputs": [],
      "source": [
        "consensus = (quantiles_adam + quantiles_theil1 + estimated_quantiles2)/3.\n",
        "consensus_down = (quantiles_adam + quantiles_theil_down + quantiles_ls_down)/3.\n",
        "consensus_up = (quantiles_adam_up + quantiles_theil_up + quantiles_ls_up)/3.\n",
        "plt.plot(empirical_quantiles, np.zeros(len(empirical_quantiles)), 'b-', label = \"Empirical\")\n",
        "plt.plot(np.array(empirical_quantiles), np.array(estimated_genpareto) - np.array(empirical_quantiles), 'r-.', label = \"MLE\")\n",
        "plt.plot(np.array(empirical_quantiles), np.array(estimated_genpareto) - np.array(boot_bound_up) - np.array(empirical_quantiles), 'r:', label = \"MLE 95% CI\")\n",
        "plt.plot(np.array(empirical_quantiles), np.array(estimated_genpareto) - np.array(boot_bound_down) - np.array(empirical_quantiles), 'r:')#, label = \"MLE_boot bound\")\n",
        "#plt.plot(np.array(empirical_quantiles), np.array(estimated_genpareto), 'r-.', label = \"MLE\")\n",
        "#plt.plot(empirical_quantiles, estimated_quantiles_classical, 'g-.')\n",
        "#plt.plot(empirical_quantiles, moment_quantiles, 'y:')\n",
        "#plt.plot(np.array(empirical_quantiles), np.array(quantiles_adam) - np.array(empirical_quantiles), 'g-.', label = \"Adam\")\n",
        "#plt.plot(np.array(empirical_quantiles), np.array(quantiles_adam_up) - np.array(empirical_quantiles), 'g:', label = \"Adam 90% CI\")\n",
        "#plt.plot(np.array(empirical_quantiles), np.array(quantiles_adam_down) - np.array(empirical_quantiles), 'g:')\n",
        "#plt.plot(np.array(empirical_quantiles), np.array(quantiles_cobyla) - np.array(empirical_quantiles), 'k:', label = \"Cobyla\")\n",
        "#plt.plot(np.array(empirical_quantiles), np.array(estimated_quantiles2) - np.array(empirical_quantiles), 'y-.', label = \"LS\")\n",
        "#plt.plot(np.array(empirical_quantiles), np.array(quantiles_down) - np.array(empirical_quantiles), 'y:', label = \"LS 90% CI\")\n",
        "#plt.plot(np.array(empirical_quantiles), np.array(quantiles_up) - np.array(empirical_quantiles), 'y:')\n",
        "#plt.plot(empirical_quantiles, quantiles_MLE_Weibull, 'y:', label = \"LS\")\n",
        "#plt.plot(np.array(empirical_quantiles), np.array(quantiles_theil1) - np.array(empirical_quantiles), 'g:', label = \"Theil\")\n",
        "plt.plot(np.array(empirical_quantiles), np.array(consensus) - np.array(empirical_quantiles), 'c--', label = \"Consensus\")\n",
        "plt.plot(np.array(empirical_quantiles), np.array(consensus_up) - np.array(empirical_quantiles), 'c:', label = \"Consensus 95% CI\")\n",
        "plt.plot(np.array(empirical_quantiles), np.array(consensus_down) - np.array(empirical_quantiles), 'c:') #label = \"Consensus_Cob+Ad\")\n",
        "plt.legend()"
      ]
    },
    {
      "cell_type": "code",
      "source": [
        "CvM(empirical_quantiles, consensus), CvM(empirical_quantiles, estimated_genpareto)"
      ],
      "metadata": {
        "colab": {
          "base_uri": "https://localhost:8080/"
        },
        "id": "IHICj-sfhem_",
        "outputId": "ed76d193-5431-4dae-c00b-e7041bd92e3f"
      },
      "execution_count": 167,
      "outputs": [
        {
          "output_type": "execute_result",
          "data": {
            "text/plain": [
              "(9.254944598337943, 0.9932271468144052)"
            ]
          },
          "metadata": {},
          "execution_count": 167
        }
      ]
    },
    {
      "cell_type": "markdown",
      "metadata": {
        "id": "9Tc5QwkB6mGj"
      },
      "source": [
        "#Seasons"
      ]
    },
    {
      "cell_type": "code",
      "execution_count": null,
      "metadata": {
        "id": "iMX6yg9p6kzb"
      },
      "outputs": [],
      "source": [
        "data_nonzero_winter = data_nonzero[(data_nonzero['day']<60)|(data_nonzero['day']>334)]\n",
        "X = data_nonzero_winter[['year', 'day']]\n",
        "y = data_nonzero_winter['prcp']\n",
        "\n",
        "gam = GAM(s(0)+s(1), distribution='gamma', link='identity').fit(X, y)\n",
        "gam.summary()\n",
        "\n",
        "data_nonzero_winter['diff'] = y - gam.predict(X)"
      ]
    },
    {
      "cell_type": "code",
      "execution_count": null,
      "metadata": {
        "id": "j3Rm4-X78a_v"
      },
      "outputs": [],
      "source": [
        "data_nonzero_summer = data_nonzero[(data_nonzero['day']>151)&(data_nonzero['day']<244)]\n",
        "X = data_nonzero_summer[['year', 'day']]\n",
        "y = data_nonzero_summer['prcp']\n",
        "\n",
        "gam = GAM(s(0)+s(1), distribution='gamma', link='identity').fit(X, y)\n",
        "gam.summary()\n",
        "\n",
        "data_nonzero_summer['diff'] = y - gam.predict(X)"
      ]
    },
    {
      "cell_type": "code",
      "execution_count": null,
      "metadata": {
        "id": "aNpLPnpQ9zA5"
      },
      "outputs": [],
      "source": [
        "#Some preparations\n",
        "#sample = list(data_nonzero['diff'])\n",
        "#random.shuffle(sample)\n",
        "sample_winter = data_nonzero_winter['diff']\n",
        "length_winter = len(sample_winter)\n",
        "sample_winter_train = sample_winter[:int(length_winter/5.)]\n",
        "sample_winter_test = sample_winter[int(length_winter/5.):]\n",
        "length_winter_test = len(sample_winter_test)\n",
        "new_alphas = list(map(lambda x: 0.98+x*0.0001, range(190)))\n",
        "new_alphas_train = list(map(lambda x: 0.90+x*0.001, range(100)))\n",
        "sorted_sample_winter_train = sorted(sample_winter_train)\n",
        "sorted_sample_winter_test = sorted(sample_winter_test)\n",
        "empirical_quantiles_winter = list(map(lambda x: sorted_sample_winter_test[int(length_winter_test*x)-1], new_alphas))\n",
        "\n",
        "sample_summer = data_nonzero_summer['diff']\n",
        "length_summer = len(sample_summer)\n",
        "sample_summer_train = sample_summer[:int(length_summer/5.)]\n",
        "sample_summer_test = sample_summer[int(length_summer/5.):]\n",
        "length_summer_test = len(sample_summer_test)\n",
        "new_alphas = list(map(lambda x: 0.98+x*0.0001, range(190)))\n",
        "new_alphas_train = list(map(lambda x: 0.90+x*0.001, range(100)))\n",
        "sorted_sample_summer_train = sorted(sample_summer_train)\n",
        "sorted_sample_summer_test = sorted(sample_summer_test)\n",
        "empirical_quantiles_summer = list(map(lambda x: sorted_sample_summer_test[int(length_summer_test*x)-1], new_alphas))"
      ]
    },
    {
      "cell_type": "code",
      "execution_count": null,
      "metadata": {
        "colab": {
          "base_uri": "https://localhost:8080/",
          "height": 447
        },
        "id": "symgz3Jn_HQU",
        "outputId": "7fc35e56-6737-4842-8d64-8cab99648de1"
      },
      "outputs": [
        {
          "data": {
            "text/plain": [
              "<matplotlib.legend.Legend at 0x7f31af682170>"
            ]
          },
          "execution_count": 34,
          "metadata": {},
          "output_type": "execute_result"
        },
        {
          "data": {
            "image/png": "[encoded data removed]",
            "text/plain": [
              "<Figure size 640x480 with 1 Axes>"
            ]
          },
          "metadata": {},
          "output_type": "display_data"
        }
      ],
      "source": [
        "est_mle = list(map(lambda x: mle_estimator(sample_winter_train, 1-x)[0], new_alphas_train[:90]))\n",
        "est_CIup_mle = list(map(lambda x: mle_estimator(sample_winter_train, 1-x)[0] + mle_bound(sample_winter_train, 1-x), new_alphas_train[:90]))\n",
        "est_CIdown_mle = list(map(lambda x: mle_estimator(sample_winter_train, 1-x)[0] - mle_bound(sample_winter_train, 1-x), new_alphas_train[:90]))\n",
        "plt.plot(new_alphas_train[:90], est_mle, 'b--', label = 'MLE_winter')\n",
        "plt.plot(new_alphas_train[:90], est_CIup_mle, 'b:', label = 'MLE_bound_winter')\n",
        "plt.plot(new_alphas_train[:90], est_CIdown_mle, 'b:', label = 'MLE_bound_winter')\n",
        "\n",
        "est_mle = list(map(lambda x: mle_estimator(sample_summer_train, 1-x)[0], new_alphas_train[:90]))\n",
        "est_CIup_mle = list(map(lambda x: mle_estimator(sample_summer_train, 1-x)[0] + mle_bound(sample_summer_train, 1-x), new_alphas_train[:90]))\n",
        "est_CIdown_mle = list(map(lambda x: mle_estimator(sample_summer_train, 1-x)[0] - mle_bound(sample_summer_train, 1-x), new_alphas_train[:90]))\n",
        "plt.plot(new_alphas_train[:90], est_mle, 'r--', label = 'MLE_summer')\n",
        "plt.plot(new_alphas_train[:90], est_CIup_mle, 'r:', label = 'MLE_bound_summer')\n",
        "plt.plot(new_alphas_train[:90], est_CIdown_mle, 'r:', label = 'MLE_bound_summer')\n",
        "\n",
        "plt.legend()"
      ]
    },
    {
      "cell_type": "markdown",
      "metadata": {
        "id": "TfJ11sK8Sr5n"
      },
      "source": [
        "#Comparison with metastatistical"
      ]
    },
    {
      "cell_type": "code",
      "execution_count": null,
      "metadata": {
        "id": "hxjaVD5hTQLp"
      },
      "outputs": [],
      "source": [
        "data = pd.read_csv(\"/content/USW00014845.csv\", sep = \",\", index_col=False)\n",
        "\n",
        "#Choice of the longest row of \"good\" years\n",
        "year_first, year_final = prcp_check(data)\n",
        "\n",
        "#Removing all 29 February\n",
        "arr = []\n",
        "for i in range(len(data)):\n",
        "  if data['DATE'][i][5:10] == '02-29':\n",
        "    arr.append(i)\n",
        "\n",
        "data = data.drop(labels = arr, axis = 0)\n",
        "\n",
        "#Removing bad years\n",
        "flag = 0\n",
        "while int(data['DATE'][data.index[flag]][0:4]) < year_first:\n",
        "    flag += 1\n",
        "flag1 = len(data['DATE']) -1\n",
        "while int(data['DATE'][data.index[flag1]][0:4]) != year_final:\n",
        "    flag1 -= 1\n",
        "\n",
        "arr = data.index[flag:flag1+1]\n",
        "date = data['DATE'][arr]\n",
        "prcp = data['PRCP'][arr]\n",
        "\n",
        "#Extracting years and numbers of a day in year from date\n",
        "year = np.array(list(map(lambda x: int(date[x][0:4]), arr)))\n",
        "day_in_year = np.array(list(map(lambda x: month_day_to_number(int(date[x][5:7]), int(date[x][8:10])), arr)))\n",
        "\n",
        "#Dataset for applying GAM\n",
        "d = {'prcp': prcp, 'year': year, 'day': day_in_year}\n",
        "data_prcp = pd.DataFrame(d)\n",
        "data_prcp['prcp'] = data_prcp['prcp'].fillna(0)\n",
        "\n",
        "#removing zeros\n",
        "data_nonzero = data_prcp[data_prcp['prcp']>0]"
      ]
    },
    {
      "cell_type": "code",
      "execution_count": null,
      "metadata": {
        "colab": {
          "background_save": true
        },
        "id": "pRvqhQqAVt7D"
      },
      "outputs": [],
      "source": [
        "rat = 0.1\n",
        "year_bound = year_first + int(rat*(year_final - year_first))\n",
        "\n",
        "data_prcp_train = data_prcp[data_prcp['year'] < year_bound + 1]\n",
        "data_nonzero_train = data_nonzero[data_nonzero['year'] < year_bound + 1]\n",
        "\n",
        "n_years = year_final - year_bound\n",
        "alphas = np.arange(1/(n_years+1), 1, 1/(n_years+1))\n",
        "years_test = np.arange(year_bound + 1, year_final+1, 1)\n",
        "\n",
        "max_years = np.array(list(map(lambda x: max(data_prcp['prcp'][data_prcp['year'] == x]), years_test)))\n",
        "empirical_quantiles = np.array(sorted(max_years))"
      ]
    },
    {
      "cell_type": "code",
      "execution_count": null,
      "metadata": {
        "id": "Iep9fLzbVQ41"
      },
      "outputs": [],
      "source": [
        "quantiles_LS = np.array(quantiles_cdf(data_prcp_train, 'LS', alphas))\n",
        "quantiles_Theil = np.array(quantiles_cdf(data_prcp_train, 'Theil', alphas))\n",
        "quantiles_Adam = np.array(quantiles_cdf(data_prcp_train, 'Adam', alphas))\n",
        "#quantiles_Cobyla = quantiles_cdf(data_prcp_train, 'Cobyla', alphas)\n",
        "#quantiles_consensus = np.array((quantiles_LS + quantiles_Theil)/2.)\n",
        "quantiles_consensus = np.array((quantiles_LS + quantiles_Theil + quantiles_Adam)/3.)\n",
        "quantiles_meta = np.array(metasta(data_nonzero_train, 'PWM', alphas))"
      ]
    },
    {
      "cell_type": "code",
      "execution_count": null,
      "metadata": {
        "colab": {
          "base_uri": "https://localhost:8080/",
          "height": 447
        },
        "id": "VLokzu5dfl0u",
        "outputId": "2f6c5c24-35ca-47c7-bc93-1609afd55859"
      },
      "outputs": [
        {
          "data": {
            "text/plain": [
              "<matplotlib.legend.Legend at 0x7d6e9381f340>"
            ]
          },
          "execution_count": 255,
          "metadata": {},
          "output_type": "execute_result"
        },
        {
          "data": {
            "image/png": "[encoded data removed]",
            "text/plain": [
              "<Figure size 640x480 with 1 Axes>"
            ]
          },
          "metadata": {},
          "output_type": "display_data"
        }
      ],
      "source": [
        "nonzero_prcp = data_nonzero_train['prcp'].values\n",
        "new_alphas_train = list(map(lambda x: 0.90+x*0.001, range(90)))\n",
        "est_mle = list(map(lambda x: mle_estimator(nonzero_prcp, 1-x)[0], new_alphas_train))\n",
        "#est_CIup_mle = list(map(lambda x: mle_estimator(nonzero_prcp, 1-x)[0] + mle_bound(nonzero_prcp, 1-x), new_alphas_train))\n",
        "#est_CIdown_mle = list(map(lambda x: mle_estimator(nonzero_prcp, 1-x)[0] - mle_bound(nonzero_prcp, 1-x), new_alphas_train))\n",
        "plt.plot(new_alphas_train[:90], est_mle, 'b--', label = 'MLE')\n",
        "#plt.plot(new_alphas_train[:90], est_CIup_mle, 'r:', label = 'MLE_bound')\n",
        "#plt.plot(new_alphas_train[:90], est_CIdown_mle, 'r:', label = 'MLE_bound')\n",
        "plt.legend()"
      ]
    },
    {
      "cell_type": "code",
      "execution_count": null,
      "metadata": {
        "id": "UvJUdTDGhZli"
      },
      "outputs": [],
      "source": [
        "ratio_of_high_values = 0.06\n",
        "evi_pmle, loc_pmle, sigma_pmle = mle_estimator(nonzero_prcp, ratio_of_high_values)\n",
        "nonzero_per_year, ratio = index_of_dispersion(data_nonzero_train, ratio_of_high_values)\n",
        "m1 = np.mean(nonzero_per_year)\n",
        "s2 = np.var(nonzero_per_year)\n",
        "p = m1/s2\n",
        "r = np.power(m1,2)/(s2 - m1)\n",
        "\n",
        "ratio1 = ratio_of_high_values*len(nonzero_prcp)/len(data_prcp_train['prcp'].values)\n",
        "theta = intervals_estimator(data_prcp_train['prcp'].values, ratio1)\n",
        "#sample_egev = sorted(nonzero_prcp)\n",
        "#n_egev = len(sample_egev)\n",
        "#level_egev = sample_egev[int(n*(1 - ratio_of_high_values))]\n",
        "level = np.quantile(nonzero_prcp, 1 - ratio_of_high_values)\n",
        "#quantiles_egev = np.array(quantile_egev(r, p, evi_pmle, sigma_pmle, level, alphas))\n",
        "quantiles_classical = np.array(list(map(lambda x: quantile_classical(evi_pmle, sigma_pmle, theta, ratio1, level, x, 365), alphas)))"
      ]
    },
    {
      "cell_type": "code",
      "execution_count": null,
      "metadata": {
        "colab": {
          "base_uri": "https://localhost:8080/",
          "height": 447
        },
        "id": "lrzox0u3KsNO",
        "outputId": "525fcb27-3fc3-40ea-fb04-3872ae4c306a"
      },
      "outputs": [
        {
          "data": {
            "text/plain": [
              "<matplotlib.legend.Legend at 0x7d6e9456b760>"
            ]
          },
          "execution_count": 257,
          "metadata": {},
          "output_type": "execute_result"
        },
        {
          "data": {
            "image/png": "[encoded data removed]",
            "text/plain": [
              "<Figure size 640x480 with 1 Axes>"
            ]
          },
          "metadata": {},
          "output_type": "display_data"
        }
      ],
      "source": [
        "#plt.plot(empirical_quantiles, alphas, 'bo', label = \"Empirical\")\n",
        "#plt.plot(quantiles_Adam, alphas, 'r-.', label = \"Adam\")\n",
        "#plt.plot(quantiles_meta, alphas, 'k-.', label = \"Metastat\")\n",
        "#plt.plot(quantiles_LS, alphas, 'y:', label = \"LS\")\n",
        "#plt.plot(quantiles_Theil, alphas, 'g:', label = \"Theil\")\n",
        "#plt.plot(quantiles_consensus, alphas, ':', label = \"Consensus\")\n",
        "#plt.plot(alphas, quantiles_Adam/empirical_quantiles, 'r-.', label = \"Adam\")\n",
        "plt.plot( alphas[2:n_years-2], quantiles_meta[2:n_years-2]/empirical_quantiles[2:n_years-2], 'g:', label = \"Metastatistical\")\n",
        "#plt.plot( alphas[2:n_years-2], quantiles_LS[2:n_years-2]/empirical_quantiles[2:n_years-2], 'b--', label = \"LS\")\n",
        "#plt.plot( alphas, quantiles_LS/empirical_quantiles, 'y:', label = \"LS\")\n",
        "#plt.plot( alphas[2:n_years-2], quantiles_Theil[2:n_years-2]/empirical_quantiles[2:n_years-2], 'c--', label = \"Theil\")\n",
        "#plt.plot( alphas[2:n_years-2], quantiles_Adam[2:n_years-2]/empirical_quantiles[2:n_years-2], 'y--', label = \"Adam\")\n",
        "plt.plot( alphas[2:n_years-2], quantiles_consensus[2:n_years-2]/empirical_quantiles[2:n_years-2], 'c--', label = \"Consensus\")\n",
        "#plt.plot( alphas[1:n_years-1], quantiles_egev[1:n_years-1]/empirical_quantiles[1:n_years-1], 'r-.', label = \"EGEV\")\n",
        "plt.plot( alphas[2:n_years-2], quantiles_classical[2:n_years-2]/empirical_quantiles[2:n_years-2], 'r-.', label = \"MLE GPD + EI\")\n",
        "#plt.plot(alphas, quantiles_consensus/empirical_quantiles, ':', label = \"Consensus\")\n",
        "plt.plot(alphas, np.ones(len(alphas)), 'y-')\n",
        "plt.legend()"
      ]
    },
    {
      "cell_type": "markdown",
      "metadata": {
        "id": "a7d2lzWdAwRl"
      },
      "source": [
        "#Performance of block quantiles method for generated iid and stationary data"
      ]
    },
    {
      "cell_type": "code",
      "execution_count": null,
      "metadata": {
        "colab": {
          "background_save": true
        },
        "id": "w6rxNODhA8ld"
      },
      "outputs": [],
      "source": [
        "N = 1000\n",
        "N_for_check = 1\n",
        "#Possible options for stationary sequences: \"ARc\", \"AR2\", \"ARSt\", \"MA\", \"MA_LN\", \"Garch\", \"GarchGauss\", \"MM1\", \"MM_Gamma\", \"MM_Exp\",\n",
        "#\"ARMAX\", \"ARMAX_LN\", \"Example\", \"LindleyBurr\", \"LindleyLN\", \"Metropolis\"\n",
        "type_series = \"Garch\"\n",
        "type_iid = \"weibull\"\n",
        "theta = 1.5\n",
        "EI = 1\n",
        "rho = 2\n",
        "confidence_level = 0.95\n",
        "\n",
        "ratio_of_high_values = 0.05\n",
        "alpha_min = 0.01\n",
        "alpha_max = 0.99\n",
        "block_min = int(np.power(N, 1/4))\n",
        "block_max = int(np.power(N, 3/4))\n",
        "number_block = int(2*np.sqrt(block_max - block_min))\n",
        "\n",
        "new_alphas = list(map(lambda x: 0.99+x*0.0005, range(20)))\n",
        "real_quantiles = ss.expon.ppf(new_alphas)"
      ]
    },
    {
      "cell_type": "code",
      "execution_count": null,
      "metadata": {
        "id": "NAf6VJawB8eh"
      },
      "outputs": [],
      "source": [
        "#It's for stationary time series;\n",
        "#iterations = 10000\n",
        "#sample_max = list(map(lambda x: np.max(generate_time_series(N_for_check, type_series)), range(iterations)))\n",
        "#new_alphas = list(map(lambda x: 0.8+x*0.01, range(20)))\n",
        "#sample_max = sorted(sample_max)\n",
        "\n",
        "#empirical_quantiles = list(map(lambda x: sample_max[int(iterations*x)-1], new_alphas))\n",
        "\n",
        "#This is for iid samples\n",
        "iterations = 1000000\n",
        "new_alphas = list(map(lambda x: 0.98+x*0.001, range(20)))\n",
        "sample_big = generate_samples(iterations, type_iid, theta)\n",
        "real_quantiles = list(map(lambda x: np.quantile(sample_big, x), new_alphas))"
      ]
    },
    {
      "cell_type": "code",
      "execution_count": null,
      "metadata": {
        "colab": {
          "background_save": true,
          "base_uri": "https://localhost:8080/"
        },
        "id": "caRxDWx3ECVX",
        "outputId": "3b80b32e-484e-42a0-f6f5-71e3905c4485"
      },
      "outputs": [
        {
          "name": "stderr",
          "output_type": "stream",
          "text": [
            "  2%|▏         | 18/1000 [00:27<24:59,  1.53s/it]\n"
          ]
        },
        {
          "ename": "KeyboardInterrupt",
          "evalue": "",
          "output_type": "error",
          "traceback": [
            "\u001b[0;31m---------------------------------------------------------------------------\u001b[0m",
            "\u001b[0;31mKeyboardInterrupt\u001b[0m                         Traceback (most recent call last)",
            "\u001b[0;32m<ipython-input-15-fb1f08a10bdb>\u001b[0m in \u001b[0;36m<cell line: 6>\u001b[0;34m()\u001b[0m\n\u001b[1;32m     16\u001b[0m   \u001b[0mestimated_quantiles2\u001b[0m\u001b[0;34m,\u001b[0m \u001b[0msig1\u001b[0m\u001b[0;34m,\u001b[0m \u001b[0mstarting_theta\u001b[0m \u001b[0;34m=\u001b[0m \u001b[0mLS\u001b[0m\u001b[0;34m(\u001b[0m\u001b[0mfeature1\u001b[0m\u001b[0;34m,\u001b[0m \u001b[0mtarget1\u001b[0m\u001b[0;34m,\u001b[0m \u001b[0;34m'W'\u001b[0m\u001b[0;34m,\u001b[0m \u001b[0mN_for_check\u001b[0m\u001b[0;34m,\u001b[0m \u001b[0mnew_alphas\u001b[0m\u001b[0;34m)\u001b[0m\u001b[0;34m\u001b[0m\u001b[0;34m\u001b[0m\u001b[0m\n\u001b[1;32m     17\u001b[0m   \u001b[0;31m#quantiles_theil1, sig2, starting_theta2 = Theil(feature1, target1, 'W', N_for_check, new_alphas)\u001b[0m\u001b[0;34m\u001b[0m\u001b[0;34m\u001b[0m\u001b[0m\n\u001b[0;32m---> 18\u001b[0;31m   \u001b[0mquantiles_adam\u001b[0m\u001b[0;34m,\u001b[0m \u001b[0mres_adam\u001b[0m \u001b[0;34m=\u001b[0m \u001b[0mAdam\u001b[0m\u001b[0;34m(\u001b[0m\u001b[0mfeature1\u001b[0m\u001b[0;34m,\u001b[0m \u001b[0mtarget1\u001b[0m\u001b[0;34m,\u001b[0m \u001b[0;34m'W'\u001b[0m\u001b[0;34m,\u001b[0m \u001b[0mN_for_check\u001b[0m\u001b[0;34m,\u001b[0m \u001b[0mnew_alphas\u001b[0m\u001b[0;34m,\u001b[0m \u001b[0mstarting_theta\u001b[0m\u001b[0;34m,\u001b[0m \u001b[0mrho\u001b[0m\u001b[0;34m)\u001b[0m\u001b[0;34m\u001b[0m\u001b[0;34m\u001b[0m\u001b[0m\n\u001b[0m\u001b[1;32m     19\u001b[0m   \u001b[0mquantiles_consensus\u001b[0m\u001b[0;34m[\u001b[0m\u001b[0mi\u001b[0m\u001b[0;34m]\u001b[0m \u001b[0;34m=\u001b[0m \u001b[0;34m(\u001b[0m\u001b[0mquantiles_adam\u001b[0m \u001b[0;34m+\u001b[0m \u001b[0mquantiles_theil1\u001b[0m \u001b[0;34m+\u001b[0m \u001b[0mestimated_quantiles2\u001b[0m\u001b[0;34m)\u001b[0m\u001b[0;34m/\u001b[0m\u001b[0;36m3.\u001b[0m\u001b[0;34m\u001b[0m\u001b[0;34m\u001b[0m\u001b[0m\n\u001b[1;32m     20\u001b[0m   \u001b[0mquantiles_consensus\u001b[0m\u001b[0;34m[\u001b[0m\u001b[0mi\u001b[0m\u001b[0;34m]\u001b[0m \u001b[0;34m=\u001b[0m \u001b[0mestimated_quantiles2\u001b[0m\u001b[0;34m\u001b[0m\u001b[0;34m\u001b[0m\u001b[0m\n",
            "\u001b[0;32m<ipython-input-2-80d953cac6dc>\u001b[0m in \u001b[0;36mAdam\u001b[0;34m(feature, target, method, N, alphas, starting_theta, rho)\u001b[0m\n\u001b[1;32m    646\u001b[0m     \u001b[0mz\u001b[0m \u001b[0;34m=\u001b[0m \u001b[0mnp\u001b[0m\u001b[0;34m.\u001b[0m\u001b[0marray\u001b[0m\u001b[0;34m(\u001b[0m\u001b[0;34m[\u001b[0m\u001b[0mstarting_theta\u001b[0m\u001b[0;34m,\u001b[0m \u001b[0;36m1.\u001b[0m\u001b[0;34m,\u001b[0m \u001b[0;34m-\u001b[0m\u001b[0;36m1\u001b[0m\u001b[0;34m]\u001b[0m\u001b[0;34m)\u001b[0m\u001b[0;34m\u001b[0m\u001b[0;34m\u001b[0m\u001b[0m\n\u001b[1;32m    647\u001b[0m     \u001b[0;31m#z = np.array([1., 1., -1.])\u001b[0m\u001b[0;34m\u001b[0m\u001b[0;34m\u001b[0m\u001b[0m\n\u001b[0;32m--> 648\u001b[0;31m     \u001b[0mres\u001b[0m \u001b[0;34m=\u001b[0m \u001b[0mopt\u001b[0m\u001b[0;34m.\u001b[0m\u001b[0mminimize\u001b[0m\u001b[0;34m(\u001b[0m\u001b[0mfunc\u001b[0m\u001b[0;34m,\u001b[0m \u001b[0mz\u001b[0m\u001b[0;34m,\u001b[0m \u001b[0mjac\u001b[0m \u001b[0;34m=\u001b[0m \u001b[0mgradient\u001b[0m\u001b[0;34m,\u001b[0m \u001b[0mmethod\u001b[0m\u001b[0;34m=\u001b[0m\u001b[0madam\u001b[0m\u001b[0;34m)\u001b[0m\u001b[0;34m\u001b[0m\u001b[0;34m\u001b[0m\u001b[0m\n\u001b[0m\u001b[1;32m    649\u001b[0m \u001b[0;34m\u001b[0m\u001b[0m\n\u001b[1;32m    650\u001b[0m     \u001b[0;32mif\u001b[0m \u001b[0mmethod\u001b[0m \u001b[0;34m==\u001b[0m \u001b[0;34m'W'\u001b[0m\u001b[0;34m:\u001b[0m\u001b[0;34m\u001b[0m\u001b[0;34m\u001b[0m\u001b[0m\n",
            "\u001b[0;32m/usr/local/lib/python3.10/dist-packages/scipy/optimize/_minimize.py\u001b[0m in \u001b[0;36mminimize\u001b[0;34m(fun, x0, args, method, jac, hess, hessp, bounds, constraints, tol, callback, options)\u001b[0m\n\u001b[1;32m    631\u001b[0m         \u001b[0;31m# custom method should be able to accept whatever bounds/constraints\u001b[0m\u001b[0;34m\u001b[0m\u001b[0;34m\u001b[0m\u001b[0m\n\u001b[1;32m    632\u001b[0m         \u001b[0;31m# are provided to it.\u001b[0m\u001b[0;34m\u001b[0m\u001b[0;34m\u001b[0m\u001b[0m\n\u001b[0;32m--> 633\u001b[0;31m         return method(fun, x0, args=args, jac=jac, hess=hess, hessp=hessp,\n\u001b[0m\u001b[1;32m    634\u001b[0m                       \u001b[0mbounds\u001b[0m\u001b[0;34m=\u001b[0m\u001b[0mbounds\u001b[0m\u001b[0;34m,\u001b[0m \u001b[0mconstraints\u001b[0m\u001b[0;34m=\u001b[0m\u001b[0mconstraints\u001b[0m\u001b[0;34m,\u001b[0m\u001b[0;34m\u001b[0m\u001b[0;34m\u001b[0m\u001b[0m\n\u001b[1;32m    635\u001b[0m                       callback=callback, **options)\n",
            "\u001b[0;32m<ipython-input-2-80d953cac6dc>\u001b[0m in \u001b[0;36madam\u001b[0;34m(fun, x0, jac, args, learning_rate, beta1, beta2, eps, startiter, maxiter, callback, **kwargs)\u001b[0m\n\u001b[1;32m    316\u001b[0m \u001b[0;34m\u001b[0m\u001b[0m\n\u001b[1;32m    317\u001b[0m     \u001b[0;32mfor\u001b[0m \u001b[0mi\u001b[0m \u001b[0;32min\u001b[0m \u001b[0mrange\u001b[0m\u001b[0;34m(\u001b[0m\u001b[0mstartiter\u001b[0m\u001b[0;34m,\u001b[0m \u001b[0mstartiter\u001b[0m \u001b[0;34m+\u001b[0m \u001b[0mmaxiter\u001b[0m\u001b[0;34m)\u001b[0m\u001b[0;34m:\u001b[0m\u001b[0;34m\u001b[0m\u001b[0;34m\u001b[0m\u001b[0m\n\u001b[0;32m--> 318\u001b[0;31m         \u001b[0mg\u001b[0m \u001b[0;34m=\u001b[0m \u001b[0mjac\u001b[0m\u001b[0;34m(\u001b[0m\u001b[0mx\u001b[0m\u001b[0;34m)\u001b[0m\u001b[0;34m\u001b[0m\u001b[0;34m\u001b[0m\u001b[0m\n\u001b[0m\u001b[1;32m    319\u001b[0m \u001b[0;34m\u001b[0m\u001b[0m\n\u001b[1;32m    320\u001b[0m         \u001b[0;32mif\u001b[0m \u001b[0mcallback\u001b[0m \u001b[0;32mand\u001b[0m \u001b[0mcallback\u001b[0m\u001b[0;34m(\u001b[0m\u001b[0mx\u001b[0m\u001b[0;34m)\u001b[0m\u001b[0;34m:\u001b[0m\u001b[0;34m\u001b[0m\u001b[0;34m\u001b[0m\u001b[0m\n",
            "\u001b[0;32m<ipython-input-2-80d953cac6dc>\u001b[0m in \u001b[0;36mgradient\u001b[0;34m(x)\u001b[0m\n\u001b[1;32m    618\u001b[0m         \u001b[0md\u001b[0m\u001b[0;34m[\u001b[0m\u001b[0;36m0\u001b[0m\u001b[0;34m]\u001b[0m \u001b[0;34m=\u001b[0m \u001b[0;34m-\u001b[0m \u001b[0mnp\u001b[0m\u001b[0;34m.\u001b[0m\u001b[0msum\u001b[0m\u001b[0;34m(\u001b[0m\u001b[0mnp\u001b[0m\u001b[0;34m.\u001b[0m\u001b[0msign\u001b[0m\u001b[0;34m(\u001b[0m\u001b[0mtarget\u001b[0m \u001b[0;34m-\u001b[0m \u001b[0mx\u001b[0m\u001b[0;34m[\u001b[0m\u001b[0;36m2\u001b[0m\u001b[0;34m]\u001b[0m \u001b[0;34m-\u001b[0m \u001b[0mx\u001b[0m\u001b[0;34m[\u001b[0m\u001b[0;36m1\u001b[0m\u001b[0;34m]\u001b[0m\u001b[0;34m*\u001b[0m\u001b[0mnp\u001b[0m\u001b[0;34m.\u001b[0m\u001b[0mpower\u001b[0m\u001b[0;34m(\u001b[0m\u001b[0;34m-\u001b[0m\u001b[0mnp\u001b[0m\u001b[0;34m.\u001b[0m\u001b[0mlog\u001b[0m\u001b[0;34m(\u001b[0m\u001b[0mfeature\u001b[0m\u001b[0;34m)\u001b[0m\u001b[0;34m,\u001b[0m \u001b[0mx\u001b[0m\u001b[0;34m[\u001b[0m\u001b[0;36m0\u001b[0m\u001b[0;34m]\u001b[0m\u001b[0;34m)\u001b[0m\u001b[0;34m)\u001b[0m\u001b[0;34m*\u001b[0m\u001b[0mx\u001b[0m\u001b[0;34m[\u001b[0m\u001b[0;36m1\u001b[0m\u001b[0;34m]\u001b[0m\u001b[0;34m*\u001b[0m\u001b[0mnp\u001b[0m\u001b[0;34m.\u001b[0m\u001b[0mpower\u001b[0m\u001b[0;34m(\u001b[0m\u001b[0;34m-\u001b[0m\u001b[0mnp\u001b[0m\u001b[0;34m.\u001b[0m\u001b[0mlog\u001b[0m\u001b[0;34m(\u001b[0m\u001b[0mfeature\u001b[0m\u001b[0;34m)\u001b[0m\u001b[0;34m,\u001b[0m \u001b[0mx\u001b[0m\u001b[0;34m[\u001b[0m\u001b[0;36m0\u001b[0m\u001b[0;34m]\u001b[0m\u001b[0;34m)\u001b[0m\u001b[0;34m*\u001b[0m\u001b[0mnp\u001b[0m\u001b[0;34m.\u001b[0m\u001b[0mlog\u001b[0m\u001b[0;34m(\u001b[0m\u001b[0;34m-\u001b[0m\u001b[0mnp\u001b[0m\u001b[0;34m.\u001b[0m\u001b[0mlog\u001b[0m\u001b[0;34m(\u001b[0m\u001b[0mfeature\u001b[0m\u001b[0;34m)\u001b[0m\u001b[0;34m)\u001b[0m\u001b[0;34m*\u001b[0m\u001b[0mnp\u001b[0m\u001b[0;34m.\u001b[0m\u001b[0mpower\u001b[0m\u001b[0;34m(\u001b[0m\u001b[0mnp\u001b[0m\u001b[0;34m.\u001b[0m\u001b[0mabs\u001b[0m\u001b[0;34m(\u001b[0m\u001b[0mtarget\u001b[0m \u001b[0;34m-\u001b[0m \u001b[0mx\u001b[0m\u001b[0;34m[\u001b[0m\u001b[0;36m2\u001b[0m\u001b[0;34m]\u001b[0m \u001b[0;34m-\u001b[0m \u001b[0mx\u001b[0m\u001b[0;34m[\u001b[0m\u001b[0;36m1\u001b[0m\u001b[0;34m]\u001b[0m\u001b[0;34m*\u001b[0m\u001b[0mnp\u001b[0m\u001b[0;34m.\u001b[0m\u001b[0mpower\u001b[0m\u001b[0;34m(\u001b[0m\u001b[0;34m-\u001b[0m\u001b[0mnp\u001b[0m\u001b[0;34m.\u001b[0m\u001b[0mlog\u001b[0m\u001b[0;34m(\u001b[0m\u001b[0mfeature\u001b[0m\u001b[0;34m)\u001b[0m\u001b[0;34m,\u001b[0m \u001b[0mx\u001b[0m\u001b[0;34m[\u001b[0m\u001b[0;36m0\u001b[0m\u001b[0;34m]\u001b[0m\u001b[0;34m)\u001b[0m\u001b[0;34m)\u001b[0m\u001b[0;34m,\u001b[0m \u001b[0mrho\u001b[0m\u001b[0;34m-\u001b[0m\u001b[0;36m1\u001b[0m\u001b[0;34m)\u001b[0m\u001b[0;34m)\u001b[0m\u001b[0;34m\u001b[0m\u001b[0;34m\u001b[0m\u001b[0m\n\u001b[1;32m    619\u001b[0m         \u001b[0md\u001b[0m\u001b[0;34m[\u001b[0m\u001b[0;36m1\u001b[0m\u001b[0;34m]\u001b[0m \u001b[0;34m=\u001b[0m \u001b[0;34m-\u001b[0m \u001b[0mnp\u001b[0m\u001b[0;34m.\u001b[0m\u001b[0msum\u001b[0m\u001b[0;34m(\u001b[0m\u001b[0mnp\u001b[0m\u001b[0;34m.\u001b[0m\u001b[0msign\u001b[0m\u001b[0;34m(\u001b[0m\u001b[0mtarget\u001b[0m \u001b[0;34m-\u001b[0m \u001b[0mx\u001b[0m\u001b[0;34m[\u001b[0m\u001b[0;36m2\u001b[0m\u001b[0;34m]\u001b[0m \u001b[0;34m-\u001b[0m \u001b[0mx\u001b[0m\u001b[0;34m[\u001b[0m\u001b[0;36m1\u001b[0m\u001b[0;34m]\u001b[0m\u001b[0;34m*\u001b[0m\u001b[0mnp\u001b[0m\u001b[0;34m.\u001b[0m\u001b[0mpower\u001b[0m\u001b[0;34m(\u001b[0m\u001b[0;34m-\u001b[0m\u001b[0mnp\u001b[0m\u001b[0;34m.\u001b[0m\u001b[0mlog\u001b[0m\u001b[0;34m(\u001b[0m\u001b[0mfeature\u001b[0m\u001b[0;34m)\u001b[0m\u001b[0;34m,\u001b[0m \u001b[0mx\u001b[0m\u001b[0;34m[\u001b[0m\u001b[0;36m0\u001b[0m\u001b[0;34m]\u001b[0m\u001b[0;34m)\u001b[0m\u001b[0;34m)\u001b[0m\u001b[0;34m*\u001b[0m\u001b[0mnp\u001b[0m\u001b[0;34m.\u001b[0m\u001b[0mpower\u001b[0m\u001b[0;34m(\u001b[0m\u001b[0;34m-\u001b[0m\u001b[0mnp\u001b[0m\u001b[0;34m.\u001b[0m\u001b[0mlog\u001b[0m\u001b[0;34m(\u001b[0m\u001b[0mfeature\u001b[0m\u001b[0;34m)\u001b[0m\u001b[0;34m,\u001b[0m \u001b[0mx\u001b[0m\u001b[0;34m[\u001b[0m\u001b[0;36m0\u001b[0m\u001b[0;34m]\u001b[0m\u001b[0;34m)\u001b[0m\u001b[0;34m*\u001b[0m\u001b[0mnp\u001b[0m\u001b[0;34m.\u001b[0m\u001b[0mpower\u001b[0m\u001b[0;34m(\u001b[0m\u001b[0mnp\u001b[0m\u001b[0;34m.\u001b[0m\u001b[0mabs\u001b[0m\u001b[0;34m(\u001b[0m\u001b[0mtarget\u001b[0m \u001b[0;34m-\u001b[0m \u001b[0mx\u001b[0m\u001b[0;34m[\u001b[0m\u001b[0;36m2\u001b[0m\u001b[0;34m]\u001b[0m \u001b[0;34m-\u001b[0m \u001b[0mx\u001b[0m\u001b[0;34m[\u001b[0m\u001b[0;36m1\u001b[0m\u001b[0;34m]\u001b[0m\u001b[0;34m*\u001b[0m\u001b[0mnp\u001b[0m\u001b[0;34m.\u001b[0m\u001b[0mpower\u001b[0m\u001b[0;34m(\u001b[0m\u001b[0;34m-\u001b[0m\u001b[0mnp\u001b[0m\u001b[0;34m.\u001b[0m\u001b[0mlog\u001b[0m\u001b[0;34m(\u001b[0m\u001b[0mfeature\u001b[0m\u001b[0;34m)\u001b[0m\u001b[0;34m,\u001b[0m \u001b[0mx\u001b[0m\u001b[0;34m[\u001b[0m\u001b[0;36m0\u001b[0m\u001b[0;34m]\u001b[0m\u001b[0;34m)\u001b[0m\u001b[0;34m)\u001b[0m\u001b[0;34m,\u001b[0m \u001b[0mrho\u001b[0m\u001b[0;34m-\u001b[0m\u001b[0;36m1\u001b[0m\u001b[0;34m)\u001b[0m\u001b[0;34m)\u001b[0m\u001b[0;34m\u001b[0m\u001b[0;34m\u001b[0m\u001b[0m\n\u001b[0;32m--> 620\u001b[0;31m         \u001b[0md\u001b[0m\u001b[0;34m[\u001b[0m\u001b[0;36m2\u001b[0m\u001b[0;34m]\u001b[0m \u001b[0;34m=\u001b[0m \u001b[0;34m-\u001b[0m \u001b[0mnp\u001b[0m\u001b[0;34m.\u001b[0m\u001b[0msum\u001b[0m\u001b[0;34m(\u001b[0m\u001b[0mnp\u001b[0m\u001b[0;34m.\u001b[0m\u001b[0msign\u001b[0m\u001b[0;34m(\u001b[0m\u001b[0mtarget\u001b[0m \u001b[0;34m-\u001b[0m \u001b[0mx\u001b[0m\u001b[0;34m[\u001b[0m\u001b[0;36m2\u001b[0m\u001b[0;34m]\u001b[0m \u001b[0;34m-\u001b[0m \u001b[0mx\u001b[0m\u001b[0;34m[\u001b[0m\u001b[0;36m1\u001b[0m\u001b[0;34m]\u001b[0m\u001b[0;34m*\u001b[0m\u001b[0mnp\u001b[0m\u001b[0;34m.\u001b[0m\u001b[0mpower\u001b[0m\u001b[0;34m(\u001b[0m\u001b[0;34m-\u001b[0m\u001b[0mnp\u001b[0m\u001b[0;34m.\u001b[0m\u001b[0mlog\u001b[0m\u001b[0;34m(\u001b[0m\u001b[0mfeature\u001b[0m\u001b[0;34m)\u001b[0m\u001b[0;34m,\u001b[0m \u001b[0mx\u001b[0m\u001b[0;34m[\u001b[0m\u001b[0;36m0\u001b[0m\u001b[0;34m]\u001b[0m\u001b[0;34m)\u001b[0m\u001b[0;34m)\u001b[0m\u001b[0;34m*\u001b[0m\u001b[0mnp\u001b[0m\u001b[0;34m.\u001b[0m\u001b[0mpower\u001b[0m\u001b[0;34m(\u001b[0m\u001b[0mnp\u001b[0m\u001b[0;34m.\u001b[0m\u001b[0mabs\u001b[0m\u001b[0;34m(\u001b[0m\u001b[0mtarget\u001b[0m \u001b[0;34m-\u001b[0m \u001b[0mx\u001b[0m\u001b[0;34m[\u001b[0m\u001b[0;36m2\u001b[0m\u001b[0;34m]\u001b[0m \u001b[0;34m-\u001b[0m \u001b[0mx\u001b[0m\u001b[0;34m[\u001b[0m\u001b[0;36m1\u001b[0m\u001b[0;34m]\u001b[0m\u001b[0;34m*\u001b[0m\u001b[0mnp\u001b[0m\u001b[0;34m.\u001b[0m\u001b[0mpower\u001b[0m\u001b[0;34m(\u001b[0m\u001b[0;34m-\u001b[0m\u001b[0mnp\u001b[0m\u001b[0;34m.\u001b[0m\u001b[0mlog\u001b[0m\u001b[0;34m(\u001b[0m\u001b[0mfeature\u001b[0m\u001b[0;34m)\u001b[0m\u001b[0;34m,\u001b[0m \u001b[0mx\u001b[0m\u001b[0;34m[\u001b[0m\u001b[0;36m0\u001b[0m\u001b[0;34m]\u001b[0m\u001b[0;34m)\u001b[0m\u001b[0;34m)\u001b[0m\u001b[0;34m,\u001b[0m \u001b[0mrho\u001b[0m\u001b[0;34m-\u001b[0m\u001b[0;36m1\u001b[0m\u001b[0;34m)\u001b[0m\u001b[0;34m)\u001b[0m\u001b[0;34m\u001b[0m\u001b[0;34m\u001b[0m\u001b[0m\n\u001b[0m\u001b[1;32m    621\u001b[0m         \u001b[0;32mreturn\u001b[0m \u001b[0md\u001b[0m\u001b[0;34m\u001b[0m\u001b[0;34m\u001b[0m\u001b[0m\n\u001b[1;32m    622\u001b[0m \u001b[0;34m\u001b[0m\u001b[0m\n",
            "\u001b[0;31mKeyboardInterrupt\u001b[0m: "
          ]
        }
      ],
      "source": [
        "N_iter = 1000\n",
        "lna = len(new_alphas)\n",
        "quantiles_mle = np.zeros(lna*N_iter).reshape((N_iter, lna))\n",
        "quantiles_consensus = np.zeros(lna*N_iter).reshape((N_iter, lna))\n",
        "\n",
        "for i in tqdm(range(N_iter)):\n",
        "\n",
        "  sample = np.array(generate_samples(N, type_iid, theta))\n",
        "  sorted_sample = sorted(sample)\n",
        "  evi_pmle, loc_pmle, sigma_pmle = mle_estimator(sorted_sample, ratio_of_high_values)\n",
        "  threshold = np.quantile(sorted_sample, 1 - ratio_of_high_values)\n",
        "  quantiles_mle[i] = list(map(lambda x: quantile_classical(evi_pmle, sigma_pmle, EI, ratio_of_high_values, threshold, x, N_for_check), new_alphas))\n",
        "\n",
        "  feature1, target1 = generate_model(sample, alpha_min, alpha_max, block_min, block_max, number_block, ratio_of_high_values, threshold, is_threshold = False)\n",
        "\n",
        "  estimated_quantiles2, sig1, starting_theta = LS(feature1, target1, 'W', N_for_check, new_alphas)\n",
        "  #quantiles_theil1, sig2, starting_theta2 = Theil(feature1, target1, 'W', N_for_check, new_alphas)\n",
        "  quantiles_adam, res_adam = Adam(feature1, target1, 'W', N_for_check, new_alphas, starting_theta, rho)\n",
        "  quantiles_consensus[i] = (quantiles_adam + quantiles_theil1 + estimated_quantiles2)/3.\n",
        "  quantiles_consensus[i] = estimated_quantiles2"
      ]
    },
    {
      "cell_type": "code",
      "execution_count": null,
      "metadata": {
        "id": "5TlcPTBlMtMg"
      },
      "outputs": [],
      "source": [
        "temp1 = np.transpose(quantiles_consensus)\n",
        "temp2 = np.transpose(quantiles_mle)\n",
        "consensus_up = np.zeros(lna)\n",
        "consensus_down = np.zeros(lna)\n",
        "consensus_mean = np.zeros(lna)\n",
        "mle_up = np.zeros(lna)\n",
        "mle_down = np.zeros(lna)\n",
        "mle_mean = np.zeros(lna)\n",
        "\n",
        "for i in range(lna):\n",
        "    consensus_up[i] = np.quantile(temp1[i], (confidence_level+1)/2)\n",
        "    consensus_down[i] = np.quantile(temp1[i], (1 - confidence_level)/2)\n",
        "    consensus_mean[i] = np.median(temp1[i])\n",
        "    mle_up[i] = np.quantile(temp2[i], (confidence_level+1)/2)\n",
        "    mle_down[i] = np.quantile(temp2[i], (1 - confidence_level)/2)\n",
        "    mle_mean[i] = np.median(temp2[i])"
      ]
    },
    {
      "cell_type": "code",
      "execution_count": null,
      "metadata": {
        "colab": {
          "base_uri": "https://localhost:8080/",
          "height": 447
        },
        "id": "4wLZrwJ0Pu5a",
        "outputId": "ce92f293-5592-4920-faad-d6c98f0ccd95"
      },
      "outputs": [
        {
          "data": {
            "text/plain": [
              "<matplotlib.legend.Legend at 0x7cca7f94b550>"
            ]
          },
          "execution_count": 14,
          "metadata": {},
          "output_type": "execute_result"
        },
        {
          "data": {
            "image/png": "[encoded data removed]",
            "text/plain": [
              "<Figure size 640x480 with 1 Axes>"
            ]
          },
          "metadata": {},
          "output_type": "display_data"
        }
      ],
      "source": [
        "plt.plot(real_quantiles, np.zeros(lna), 'bo-', label = \"Real\")\n",
        "plt.plot()\n",
        "#plt.plot(np.array(empirical_quantiles), np.array(estimated_genpareto) - np.array(empirical_quantiles), 'r-.', label = \"MLE\")\n",
        "plt.plot(np.array(real_quantiles), np.array(mle_mean)-np.array(real_quantiles), 'r-.', label = \"MLE\")\n",
        "plt.plot(np.array(real_quantiles), np.array(mle_up)-np.array(real_quantiles), 'r:', label = \"MLE 95% CI\")\n",
        "plt.plot(np.array(real_quantiles), np.array(mle_down)-np.array(real_quantiles), 'r:')\n",
        "plt.plot(np.array(real_quantiles), np.array(consensus_up)-np.array(real_quantiles), 'c:', label = \"Consensus 95% CI\")\n",
        "plt.plot(np.array(real_quantiles), np.array(consensus_down)-np.array(real_quantiles), 'c:')\n",
        "plt.plot(np.array(real_quantiles), np.array(consensus_mean)-np.array(real_quantiles), 'c--', label = \"Consensus\")\n",
        "plt.legend()"
      ]
    },
    {
      "cell_type": "code",
      "execution_count": null,
      "metadata": {
        "colab": {
          "base_uri": "https://localhost:8080/",
          "height": 447
        },
        "id": "IKDVEOip_Klg",
        "outputId": "30d94b03-1b7f-4d5e-9bab-7746631b6634"
      },
      "outputs": [
        {
          "data": {
            "text/plain": [
              "<matplotlib.legend.Legend at 0x7cca7dc8d330>"
            ]
          },
          "execution_count": 8,
          "metadata": {},
          "output_type": "execute_result"
        },
        {
          "data": {
            "image/png": "[encoded data removed]",
            "text/plain": [
              "<Figure size 640x480 with 1 Axes>"
            ]
          },
          "metadata": {},
          "output_type": "display_data"
        }
      ],
      "source": [
        "plt.plot(new_alphas, np.array(real_quantiles), 'b-', label = \"Real\")\n",
        "#plt.plot(np.array(empirical_quantiles), np.array(estimated_genpareto) - np.array(empirical_quantiles), 'r-.', label = \"MLE\")\n",
        "plt.plot(new_alphas, np.array(mle_mean), 'r-.', label = \"MLE\")\n",
        "plt.plot(new_alphas, np.array(mle_up), 'r:', label = \"MLE 90% CI\")\n",
        "plt.plot(new_alphas, np.array(mle_down), 'r:')\n",
        "plt.plot(new_alphas, consensus_up, 'c:', label = \"Consensus 90% CI\")\n",
        "plt.plot(new_alphas, consensus_down, 'c:')\n",
        "plt.plot(new_alphas, consensus_mean, 'c--', label = \"Consensus\")\n",
        "plt.legend()"
      ]
    }
  ],
  "metadata": {
    "colab": {
      "collapsed_sections": [
        "cup0ulo5XN5e",
        "gMRrUX-gANNg",
        "B_vILChPA8_X",
        "lOtR9jNDiaml",
        "9Tc5QwkB6mGj",
        "TfJ11sK8Sr5n",
        "a7d2lzWdAwRl"
      ],
      "provenance": []
    },
    "kernelspec": {
      "display_name": "Python 3",
      "name": "python3"
    },
    "language_info": {
      "name": "python"
    }
  },
  "nbformat": 4,
  "nbformat_minor": 0
}